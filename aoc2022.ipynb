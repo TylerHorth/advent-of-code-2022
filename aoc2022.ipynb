{
 "cells": [
  {
   "cell_type": "markdown",
   "metadata": {},
   "source": [
    "# Advent of Code: 2022"
   ]
  },
  {
   "cell_type": "code",
   "execution_count": 13,
   "metadata": {},
   "outputs": [],
   "source": [
    "from aocd import get_data\n",
    "import re\n",
    "\n",
    "def uints(input: str) -> list[int]:\n",
    "    return [int(i) for i in re.findall(r\"\\d+\", input)]\n",
    "\n",
    "def ints(input: str) -> list[int]:\n",
    "    return [int(i) for i in re.findall(r\"-?\\d+\", input)]"
   ]
  },
  {
   "cell_type": "markdown",
   "metadata": {},
   "source": [
    "## Day 1"
   ]
  },
  {
   "cell_type": "code",
   "execution_count": 14,
   "metadata": {},
   "outputs": [],
   "source": [
    "data = get_data(day=1).split(\"\\n\\n\")\n",
    "data = [group.splitlines() for group in data]"
   ]
  },
  {
   "cell_type": "markdown",
   "metadata": {},
   "source": [
    "### Part 1"
   ]
  },
  {
   "cell_type": "code",
   "execution_count": 15,
   "metadata": {},
   "outputs": [
    {
     "data": {
      "text/plain": [
       "71471"
      ]
     },
     "execution_count": 15,
     "metadata": {},
     "output_type": "execute_result"
    }
   ],
   "source": [
    "sums = [sum([int(cal) for cal in group]) for group in data]\n",
    "max(sums)"
   ]
  },
  {
   "cell_type": "markdown",
   "metadata": {},
   "source": [
    "### Part 2"
   ]
  },
  {
   "cell_type": "code",
   "execution_count": 16,
   "metadata": {},
   "outputs": [
    {
     "data": {
      "text/plain": [
       "211189"
      ]
     },
     "execution_count": 16,
     "metadata": {},
     "output_type": "execute_result"
    }
   ],
   "source": [
    "sums.sort()\n",
    "\n",
    "sum(sums[-3:])"
   ]
  },
  {
   "cell_type": "markdown",
   "metadata": {},
   "source": [
    "## Day 2"
   ]
  },
  {
   "cell_type": "code",
   "execution_count": 17,
   "metadata": {},
   "outputs": [],
   "source": [
    "data = get_data(day=2)\n",
    "lines = data.splitlines()\n",
    "rounds = [line.split(\" \") for line in lines]"
   ]
  },
  {
   "cell_type": "markdown",
   "metadata": {},
   "source": [
    "### Part 1"
   ]
  },
  {
   "cell_type": "code",
   "execution_count": 18,
   "metadata": {},
   "outputs": [
    {
     "data": {
      "text/plain": [
       "15691"
      ]
     },
     "execution_count": 18,
     "metadata": {},
     "output_type": "execute_result"
    }
   ],
   "source": [
    "def to_rps(char):\n",
    "    match char:\n",
    "        case 'A' | 'X':\n",
    "            return 0\n",
    "        case 'B' | 'Y':\n",
    "            return 1\n",
    "        case 'C' | 'Z':\n",
    "            return 2\n",
    "\n",
    "def do_round(round):\n",
    "    [a, b] = [to_rps(char) for char in round]\n",
    "\n",
    "    if a == b:\n",
    "        return 3 + b + 1\n",
    "    if b == (a + 1) % 3:\n",
    "        return 6 + b + 1\n",
    "    else:\n",
    "        return 0 + b + 1\n",
    "    \n",
    "\n",
    "sum([do_round(round) for round in rounds])"
   ]
  },
  {
   "cell_type": "markdown",
   "metadata": {},
   "source": [
    "### Part 2"
   ]
  },
  {
   "cell_type": "code",
   "execution_count": 19,
   "metadata": {},
   "outputs": [
    {
     "data": {
      "text/plain": [
       "12989"
      ]
     },
     "execution_count": 19,
     "metadata": {},
     "output_type": "execute_result"
    }
   ],
   "source": [
    "def to_mod_rps(a, b):\n",
    "    a, b = to_rps(a), to_rps(b)\n",
    "    newb = (a + b - 1) % 3\n",
    "\n",
    "    return newb + 4 + (b - 1) * 3\n",
    "\n",
    "sum([to_mod_rps(a, b) for [a, b] in rounds])"
   ]
  },
  {
   "cell_type": "markdown",
   "metadata": {},
   "source": [
    "## Day 3"
   ]
  },
  {
   "cell_type": "code",
   "execution_count": 20,
   "metadata": {},
   "outputs": [],
   "source": [
    "data = get_data(day=3)\n",
    "lines = data.splitlines()"
   ]
  },
  {
   "cell_type": "markdown",
   "metadata": {},
   "source": [
    "### Part 1"
   ]
  },
  {
   "cell_type": "code",
   "execution_count": 21,
   "metadata": {},
   "outputs": [
    {
     "data": {
      "text/plain": [
       "8053"
      ]
     },
     "execution_count": 21,
     "metadata": {},
     "output_type": "execute_result"
    }
   ],
   "source": [
    "def find_dupe(line: str):\n",
    "    first, second = line[:len(line)//2], line[len(line)//2:]\n",
    "    int = set(first).intersection(set(second))\n",
    "    return ord(int.pop())\n",
    "\n",
    "def priority(char: int):\n",
    "    if char in range(ord('a'), ord('z') + 1):\n",
    "        return char - ord('a') + 1\n",
    "    else:\n",
    "        return char - ord('A') + 27\n",
    "\n",
    "sum([priority(find_dupe(line)) for line in lines])"
   ]
  },
  {
   "cell_type": "markdown",
   "metadata": {},
   "source": [
    "### Part 2"
   ]
  },
  {
   "cell_type": "code",
   "execution_count": 22,
   "metadata": {},
   "outputs": [
    {
     "data": {
      "text/plain": [
       "2425"
      ]
     },
     "execution_count": 22,
     "metadata": {},
     "output_type": "execute_result"
    }
   ],
   "source": [
    "from more_itertools import chunked\n",
    "\n",
    "def find_in_group(group):\n",
    "    [a, b, c] = group\n",
    "    return priority(ord(set(a).intersection(set(b)).intersection(set(c)).pop()))\n",
    "\n",
    "sum([find_in_group(group) for group in chunked(lines, 3)])"
   ]
  },
  {
   "cell_type": "markdown",
   "metadata": {},
   "source": [
    "## Day 4"
   ]
  },
  {
   "cell_type": "code",
   "execution_count": 23,
   "metadata": {},
   "outputs": [],
   "source": [
    "data = get_data(day=4)\n",
    "lines = data.splitlines()\n",
    "pairs = [uints(line) for line in lines]"
   ]
  },
  {
   "cell_type": "markdown",
   "metadata": {},
   "source": [
    "### Part 1"
   ]
  },
  {
   "cell_type": "code",
   "execution_count": 24,
   "metadata": {},
   "outputs": [
    {
     "data": {
      "text/plain": [
       "448"
      ]
     },
     "execution_count": 24,
     "metadata": {},
     "output_type": "execute_result"
    }
   ],
   "source": [
    "def contains(pair):\n",
    "    a, b, c, d = pair \n",
    "    return a <= c and b >= d or a >= c and b <= d\n",
    "\n",
    "len([pair for pair in pairs if contains(pair)])"
   ]
  },
  {
   "cell_type": "markdown",
   "metadata": {},
   "source": [
    "### Part 2"
   ]
  },
  {
   "cell_type": "code",
   "execution_count": 25,
   "metadata": {},
   "outputs": [
    {
     "data": {
      "text/plain": [
       "794"
      ]
     },
     "execution_count": 25,
     "metadata": {},
     "output_type": "execute_result"
    }
   ],
   "source": [
    "def overlaps(pair):\n",
    "    a, b, c, d = pair \n",
    "    return a <= d and b >= c or a >= d and b <= c\n",
    "\n",
    "len([pair for pair in pairs if overlaps(pair)])"
   ]
  },
  {
   "cell_type": "markdown",
   "metadata": {},
   "source": [
    "## Day 5"
   ]
  },
  {
   "cell_type": "code",
   "execution_count": 26,
   "metadata": {},
   "outputs": [],
   "source": [
    "from collections import defaultdict\n",
    "\n",
    "data = get_data(day=5)\n",
    "stack, moves = data.split(\"\\n\\n\")\n",
    "stack_lines = stack.splitlines()\n",
    "\n",
    "orig_stacks = defaultdict(list)\n",
    "\n",
    "for line in stack_lines[:-1]:\n",
    "    s = 1\n",
    "    for i in range(1, len(line), 4):\n",
    "        crate = line[i]\n",
    "        if crate != ' ':\n",
    "            orig_stacks[s].insert(0, crate)\n",
    "        s += 1\n",
    "\n",
    "moves = [ints(move) for move in moves.splitlines()]"
   ]
  },
  {
   "cell_type": "markdown",
   "metadata": {},
   "source": [
    "### Part 1"
   ]
  },
  {
   "cell_type": "code",
   "execution_count": 27,
   "metadata": {},
   "outputs": [
    {
     "data": {
      "text/plain": [
       "'QNHWJVJZW'"
      ]
     },
     "execution_count": 27,
     "metadata": {},
     "output_type": "execute_result"
    }
   ],
   "source": [
    "from copy import deepcopy\n",
    "\n",
    "stacks = deepcopy(orig_stacks)\n",
    "\n",
    "for cnt, fr, to in moves:\n",
    "    for i in range(0, cnt):\n",
    "        stacks[to].append(stacks[fr].pop())\n",
    "\n",
    "out = \"\"\n",
    "for k in sorted(stacks):\n",
    "    out += stacks[k][-1]\n",
    "\n",
    "out"
   ]
  },
  {
   "cell_type": "markdown",
   "metadata": {},
   "source": [
    "### Part 2"
   ]
  },
  {
   "cell_type": "code",
   "execution_count": 28,
   "metadata": {},
   "outputs": [
    {
     "data": {
      "text/plain": [
       "'BPCZJLFJW'"
      ]
     },
     "execution_count": 28,
     "metadata": {},
     "output_type": "execute_result"
    }
   ],
   "source": [
    "from copy import deepcopy\n",
    "\n",
    "stacks = deepcopy(orig_stacks)\n",
    "\n",
    "for cnt, fr, to in moves:\n",
    "    stacks[to] += stacks[fr][-cnt:]\n",
    "    stacks[fr] = stacks[fr][:-cnt]\n",
    "\n",
    "out = \"\"\n",
    "for k in sorted(stacks):\n",
    "    out += stacks[k][-1]\n",
    "\n",
    "out"
   ]
  },
  {
   "cell_type": "markdown",
   "metadata": {},
   "source": [
    "## Day 6"
   ]
  },
  {
   "cell_type": "code",
   "execution_count": 29,
   "metadata": {},
   "outputs": [],
   "source": [
    "data = get_data(day=6)"
   ]
  },
  {
   "cell_type": "markdown",
   "metadata": {},
   "source": [
    "### Part 1"
   ]
  },
  {
   "cell_type": "code",
   "execution_count": 30,
   "metadata": {},
   "outputs": [
    {
     "data": {
      "text/plain": [
       "1042"
      ]
     },
     "execution_count": 30,
     "metadata": {},
     "output_type": "execute_result"
    }
   ],
   "source": [
    "from more_itertools import windowed\n",
    "\n",
    "def find_uniq(num):\n",
    "    for i, window in enumerate(windowed(data, num)):\n",
    "        if len(set(window)) == num:\n",
    "            return i + num\n",
    "\n",
    "find_uniq(4)"
   ]
  },
  {
   "cell_type": "markdown",
   "metadata": {},
   "source": [
    "### Part 2"
   ]
  },
  {
   "cell_type": "code",
   "execution_count": 31,
   "metadata": {},
   "outputs": [
    {
     "data": {
      "text/plain": [
       "2980"
      ]
     },
     "execution_count": 31,
     "metadata": {},
     "output_type": "execute_result"
    }
   ],
   "source": [
    "find_uniq(14)"
   ]
  },
  {
   "cell_type": "markdown",
   "metadata": {},
   "source": [
    "## Day 7"
   ]
  },
  {
   "cell_type": "code",
   "execution_count": 32,
   "metadata": {},
   "outputs": [],
   "source": [
    "from dataclasses import dataclass\n",
    "\n",
    "lines = get_data(day=7).splitlines()\n",
    "\n",
    "@dataclass\n",
    "class Dir:\n",
    "    size: int\n",
    "    children: list[any]\n",
    "    parent: any\n",
    "\n",
    "    def add(self, size):\n",
    "        self.size += size\n",
    "        if self.parent:\n",
    "            self.parent.add(size)\n",
    "\n",
    "root = Dir(0, [], None)\n",
    "cur = None\n",
    "\n",
    "for line in lines:\n",
    "    if line.startswith(\"$\"):\n",
    "        if line == \"$ ls\":\n",
    "            continue\n",
    "        [_, cmd, file] = line.split()\n",
    "        match cmd, file:\n",
    "            case \"cd\", \"/\":\n",
    "                cur = root\n",
    "            case \"cd\", \"..\":\n",
    "                cur = cur.parent\n",
    "            case \"cd\", _:\n",
    "                new_dir = Dir(0, [], cur)\n",
    "                cur.children.append(new_dir)\n",
    "                cur = new_dir\n",
    "    else:\n",
    "        size = ints(line)\n",
    "        if not size:\n",
    "            continue\n",
    "        cur.add(size[0])"
   ]
  },
  {
   "cell_type": "markdown",
   "metadata": {},
   "source": [
    "### Part 1"
   ]
  },
  {
   "cell_type": "code",
   "execution_count": null,
   "metadata": {},
   "outputs": [
    {
     "data": {
      "text/plain": [
       "1432936"
      ]
     },
     "execution_count": 63,
     "metadata": {},
     "output_type": "execute_result"
    }
   ],
   "source": [
    "def total_dirs(dir):\n",
    "    s = 0\n",
    "    if dir.size < 100000:\n",
    "        s += dir.size\n",
    "    \n",
    "    s += sum([total_dirs(child) for child in dir.children])\n",
    "    return s\n",
    "\n",
    "total_dirs(root)"
   ]
  },
  {
   "cell_type": "markdown",
   "metadata": {},
   "source": [
    "### Part 2"
   ]
  },
  {
   "cell_type": "code",
   "execution_count": null,
   "metadata": {},
   "outputs": [
    {
     "data": {
      "text/plain": [
       "272298"
      ]
     },
     "execution_count": 64,
     "metadata": {},
     "output_type": "execute_result"
    }
   ],
   "source": [
    "free = 70000000 - root.size\n",
    "needed = 30000000 - free\n",
    "\n",
    "def find_smallest(dir):\n",
    "    smallest = [find_smallest(child) for child in dir.children]\n",
    "\n",
    "    if dir.size > needed:\n",
    "        smallest.append(dir.size)\n",
    "\n",
    "    smallest = list(filter(None, smallest))\n",
    "\n",
    "    if smallest:\n",
    "        return min(smallest)\n",
    "    else:\n",
    "        return None\n",
    "\n",
    "find_smallest(root)"
   ]
  },
  {
   "cell_type": "markdown",
   "metadata": {},
   "source": [
    "## Day 8"
   ]
  },
  {
   "cell_type": "code",
   "execution_count": null,
   "metadata": {},
   "outputs": [],
   "source": [
    "data = get_data(day=8)\n",
    "forest = [[int(c) for c in line] for line in data.splitlines()]\n",
    "width = len(forest[0])\n",
    "height = len(forest)"
   ]
  },
  {
   "cell_type": "markdown",
   "metadata": {},
   "source": [
    "### Part 1"
   ]
  },
  {
   "cell_type": "code",
   "execution_count": null,
   "metadata": {},
   "outputs": [
    {
     "data": {
      "text/plain": [
       "1827"
      ]
     },
     "execution_count": 66,
     "metadata": {},
     "output_type": "execute_result"
    }
   ],
   "source": [
    "def in_range(x, y):\n",
    "    return x >= 0 and y >= 0 and x < width and y < height\n",
    "\n",
    "def visible_from_edge(visible, pos, dir):\n",
    "    (x, y), (dx, dy), max = pos, dir, 0\n",
    "    visible.add(pos)\n",
    "    while in_range(x, y):\n",
    "        height = forest[y][x]\n",
    "        if height > max:\n",
    "            max = height\n",
    "            visible.add((x, y))\n",
    "        x += dx\n",
    "        y += dy\n",
    "\n",
    "def each_direction(result, func):\n",
    "    for x in range(0, width):\n",
    "        func(result, (x, 0), (0, 1))\n",
    "        func(result, (x, height - 1), (0, -1))\n",
    "\n",
    "    for y in range(0, height):\n",
    "        func(result, (0, y), (1, 0))\n",
    "        func(result, (width - 1, y), (-1, 0))\n",
    "\n",
    "visible = set()\n",
    "each_direction(visible, visible_from_edge)\n",
    "len(visible)"
   ]
  },
  {
   "cell_type": "markdown",
   "metadata": {},
   "source": [
    "### Part 2"
   ]
  },
  {
   "cell_type": "code",
   "execution_count": null,
   "metadata": {},
   "outputs": [
    {
     "data": {
      "text/plain": [
       "335580"
      ]
     },
     "execution_count": 67,
     "metadata": {},
     "output_type": "execute_result"
    }
   ],
   "source": [
    "def visible_from_tree(scores, pos, dir):\n",
    "    (x, y), (dx, dy) = pos, dir\n",
    "    i, stack = 0, [(10, 0)]\n",
    "    \n",
    "    while in_range(x, y):\n",
    "        height = forest[y][x]\n",
    "\n",
    "        while stack[-1][0] < height:\n",
    "            stack.pop()\n",
    "\n",
    "        scores[(x, y)] *= i - stack[-1][1]\n",
    "        stack.append((height, i))\n",
    "\n",
    "        i += 1\n",
    "        x += dx\n",
    "        y += dy\n",
    "\n",
    "scores = defaultdict(lambda: 1)\n",
    "each_direction(scores, visible_from_tree)\n",
    "max(scores.values())"
   ]
  },
  {
   "cell_type": "markdown",
   "metadata": {},
   "source": [
    "## Day 9"
   ]
  },
  {
   "cell_type": "code",
   "execution_count": null,
   "metadata": {},
   "outputs": [],
   "source": [
    "data = get_data(day=9)\n",
    "lines = data.splitlines()\n",
    "moves = [[d, int(steps)] for [d, steps] in [line.split() for line in lines]]"
   ]
  },
  {
   "cell_type": "markdown",
   "metadata": {},
   "source": [
    "### Part 1"
   ]
  },
  {
   "cell_type": "code",
   "execution_count": null,
   "metadata": {},
   "outputs": [
    {
     "data": {
      "text/plain": [
       "5695"
      ]
     },
     "execution_count": 69,
     "metadata": {},
     "output_type": "execute_result"
    }
   ],
   "source": [
    "import numpy as np\n",
    "\n",
    "def simulate_rope(n):\n",
    "    visited = set()\n",
    "    rope = np.zeros((n, 2), dtype=int)\n",
    "\n",
    "    for m in moves:\n",
    "        for _ in range(m[1]):\n",
    "            match m[0]:\n",
    "                case 'U':\n",
    "                    rope[0, 1] -= 1\n",
    "                case 'D':\n",
    "                    rope[0, 1] += 1\n",
    "                case 'L':\n",
    "                    rope[0, 0] -= 1\n",
    "                case 'R':\n",
    "                    rope[0, 0] += 1\n",
    "            \n",
    "            for i in range(n - 1):\n",
    "                head, tail = rope[i], rope[i + 1]\n",
    "                dx, dy = head[0] - tail[0], head[1] - tail[1]\n",
    "\n",
    "                if abs(dx) > 1 or abs(dy) > 1:\n",
    "                    tail[0] += np.sign(dx)\n",
    "                    tail[1] += np.sign(dy)\n",
    "\n",
    "            visited.add(tuple(rope[-1]))\n",
    "    \n",
    "    return len(visited)\n",
    "\n",
    "simulate_rope(2)"
   ]
  },
  {
   "cell_type": "markdown",
   "metadata": {},
   "source": [
    "### Part 2"
   ]
  },
  {
   "cell_type": "code",
   "execution_count": null,
   "metadata": {},
   "outputs": [
    {
     "data": {
      "text/plain": [
       "2434"
      ]
     },
     "execution_count": 70,
     "metadata": {},
     "output_type": "execute_result"
    }
   ],
   "source": [
    "simulate_rope(10)"
   ]
  },
  {
   "cell_type": "markdown",
   "metadata": {},
   "source": [
    "## Day 10"
   ]
  },
  {
   "cell_type": "code",
   "execution_count": null,
   "metadata": {},
   "outputs": [],
   "source": [
    "data = get_data(day=10)\n",
    "program = [ints(line) for line in data.splitlines()]"
   ]
  },
  {
   "cell_type": "markdown",
   "metadata": {},
   "source": [
    "### Part 1"
   ]
  },
  {
   "cell_type": "code",
   "execution_count": null,
   "metadata": {},
   "outputs": [
    {
     "data": {
      "text/plain": [
       "12740"
      ]
     },
     "execution_count": 72,
     "metadata": {},
     "output_type": "execute_result"
    }
   ],
   "source": [
    "class Cpu:\n",
    "    def __init__(self, program):\n",
    "        self.program = program\n",
    "        self.cycle = 1\n",
    "        self.adding = None\n",
    "        self.pc = 0\n",
    "        self.x = 1\n",
    "    \n",
    "    def tick(self):\n",
    "        self.cycle += 1\n",
    "        \n",
    "        if self.adding:\n",
    "            self.x += self.adding\n",
    "            self.pc += 1\n",
    "            self.adding = None\n",
    "            return\n",
    "\n",
    "        match self.program[self.pc]:\n",
    "            case []:\n",
    "                self.pc += 1\n",
    "            case [num]:\n",
    "                self.adding = num\n",
    "    \n",
    "signal = 0\n",
    "cpu = Cpu(program)\n",
    "for i in range(1, 221):\n",
    "    if (i - 20) % 40 == 0:\n",
    "        signal += cpu.x * cpu.cycle\n",
    "    cpu.tick()\n",
    "\n",
    "signal"
   ]
  },
  {
   "cell_type": "markdown",
   "metadata": {},
   "source": [
    "### Part 2"
   ]
  },
  {
   "cell_type": "code",
   "execution_count": null,
   "metadata": {},
   "outputs": [
    {
     "data": {
      "text/plain": [
       "<matplotlib.image.AxesImage at 0x7f0caf748ac0>"
      ]
     },
     "execution_count": 73,
     "metadata": {},
     "output_type": "execute_result"
    },
    {
     "data": {
      "image/png": "[encoded data removed]",
      "text/plain": [
       "<Figure size 640x480 with 1 Axes>"
      ]
     },
     "metadata": {},
     "output_type": "display_data"
    }
   ],
   "source": [
    "import matplotlib.pyplot as plt\n",
    "\n",
    "cpu = Cpu(program)\n",
    "\n",
    "pixels = np.zeros(240)\n",
    "\n",
    "for i in range(0, 240):\n",
    "    pos = (cpu.cycle - 1) % 40\n",
    "    if abs(cpu.x - pos) <= 1:\n",
    "        pixels[i] = 1\n",
    "    cpu.tick()\n",
    "\n",
    "picture = pixels.reshape((6, 40)) \n",
    "\n",
    "plt.imshow(picture)"
   ]
  },
  {
   "cell_type": "markdown",
   "metadata": {},
   "source": [
    "## Day 11"
   ]
  },
  {
   "cell_type": "code",
   "execution_count": null,
   "metadata": {},
   "outputs": [],
   "source": [
    "from dataclasses import dataclass\n",
    "\n",
    "@dataclass\n",
    "class Monkey:\n",
    "    items: list[int]\n",
    "    operation: any\n",
    "    test: int\n",
    "    if_true: int\n",
    "    if_false: int\n",
    "    num_inspec: int = 0\n",
    "\n",
    "def monkey(group):\n",
    "    _, items, op, test, ift, iff = group.splitlines()\n",
    "    items = ints(items)\n",
    "    _, op = op.split(\"new = \")\n",
    "    test = ints(test)[0]\n",
    "    ift = ints(ift)[0]\n",
    "    iff = ints(iff)[0]\n",
    "\n",
    "    return Monkey(items, op, test, ift, iff)\n",
    "\n",
    "data = get_data(day=11)\n",
    "monkeys = [monkey(group) for group in data.split(\"\\n\\n\")]\n",
    "\n",
    "def simulate(monkeys, rounds, dampen):\n",
    "    for round in range(0, rounds):\n",
    "        for monkey in monkeys:\n",
    "            while monkey.items:\n",
    "                monkey.num_inspec += 1\n",
    "                old = monkey.items.pop(0)\n",
    "                new = eval(monkey.operation)\n",
    "                new = dampen(new)\n",
    "                if new % monkey.test == 0:\n",
    "                    monkeys[monkey.if_true].items.append(new)\n",
    "                else:\n",
    "                    monkeys[monkey.if_false].items.append(new)\n",
    "\n",
    "    monkeys.sort(key=lambda monkey: monkey.num_inspec)\n",
    "    return monkeys[-2].num_inspec * monkeys[-1].num_inspec"
   ]
  },
  {
   "cell_type": "markdown",
   "metadata": {},
   "source": [
    "### Part 1"
   ]
  },
  {
   "cell_type": "code",
   "execution_count": null,
   "metadata": {},
   "outputs": [
    {
     "data": {
      "text/plain": [
       "118674"
      ]
     },
     "execution_count": 75,
     "metadata": {},
     "output_type": "execute_result"
    }
   ],
   "source": [
    "import copy\n",
    "\n",
    "simulate(copy.deepcopy(monkeys), 20, lambda item: item // 3)"
   ]
  },
  {
   "cell_type": "markdown",
   "metadata": {},
   "source": [
    "### Part 2"
   ]
  },
  {
   "cell_type": "code",
   "execution_count": null,
   "metadata": {},
   "outputs": [
    {
     "data": {
      "text/plain": [
       "32333418600"
      ]
     },
     "execution_count": 76,
     "metadata": {},
     "output_type": "execute_result"
    }
   ],
   "source": [
    "from math import prod\n",
    "\n",
    "p = prod([monkey.test for monkey in monkeys])\n",
    "simulate(copy.deepcopy(monkeys), 10000, lambda item: item % p)"
   ]
  },
  {
   "cell_type": "markdown",
   "metadata": {},
   "source": [
    "## Day 12"
   ]
  },
  {
   "cell_type": "code",
   "execution_count": null,
   "metadata": {},
   "outputs": [],
   "source": [
    "data = get_data(day=12)\n",
    "grid = [list(line) for line in data.splitlines()]\n",
    "\n",
    "height = len(grid)\n",
    "width = len(grid[0])\n",
    "\n",
    "start = None\n",
    "dest = None\n",
    "for y in range(height):\n",
    "    for x in range(width):\n",
    "        if grid[y][x] == 'S':\n",
    "            start = (x, y)\n",
    "            grid[y][x] = 'a'\n",
    "        if grid[y][x] == 'E':\n",
    "            dest = (x, y)\n",
    "            grid[y][x] = 'z'\n"
   ]
  },
  {
   "cell_type": "markdown",
   "metadata": {},
   "source": [
    "### Part 1"
   ]
  },
  {
   "cell_type": "code",
   "execution_count": null,
   "metadata": {},
   "outputs": [
    {
     "data": {
      "text/plain": [
       "481"
      ]
     },
     "execution_count": 78,
     "metadata": {},
     "output_type": "execute_result"
    }
   ],
   "source": [
    "import heapq\n",
    "\n",
    "def dijkstra(start, get_neighbors, is_success):\n",
    "    visited = {start}\n",
    "    heap = [(0, start)]\n",
    "\n",
    "    while heap:\n",
    "        (steps, next) = heapq.heappop(heap)\n",
    "\n",
    "        if is_success(next):\n",
    "            return steps\n",
    "\n",
    "        for neighbor in get_neighbors(next):\n",
    "            if not neighbor in visited:\n",
    "                visited.add(neighbor)\n",
    "                heapq.heappush(heap, (steps + 1, neighbor))\n",
    "\n",
    "directions = [[0, 1], [0, -1],[1, 0],[-1, 0]]\n",
    "\n",
    "def is_valid(x, y):\n",
    "    return x >= 0 and y >= 0 and x < width and y < height\n",
    "\n",
    "def can_step(source, dest):\n",
    "    (x1, y1), (x2, y2) = source, dest\n",
    "    return ord(grid[y1][x1]) >= ord(grid[y2][x2]) - 1\n",
    "\n",
    "def neighbors(source):\n",
    "    (x, y) = source\n",
    "    all = [(x + dx, y + dy) for [dx, dy] in directions]\n",
    "    return [(x, y) for (x, y) in all if is_valid(x, y) and can_step((x, y), source)]\n",
    "\n",
    "dijkstra(dest, neighbors, lambda p: p == start)"
   ]
  },
  {
   "cell_type": "markdown",
   "metadata": {},
   "source": [
    "### Part 2"
   ]
  },
  {
   "cell_type": "code",
   "execution_count": null,
   "metadata": {},
   "outputs": [
    {
     "data": {
      "text/plain": [
       "480"
      ]
     },
     "execution_count": 79,
     "metadata": {},
     "output_type": "execute_result"
    }
   ],
   "source": [
    "dijkstra(dest, neighbors, lambda p: grid[p[1]][p[0]] == 'a')"
   ]
  },
  {
   "attachments": {},
   "cell_type": "markdown",
   "metadata": {},
   "source": [
    "## Day 13"
   ]
  },
  {
   "cell_type": "code",
   "execution_count": null,
   "metadata": {},
   "outputs": [],
   "source": [
    "data = get_data(day=13)\n",
    "pairs = [(eval(first), eval(second)) for [first, second] in [group.splitlines() for group in data.split(\"\\n\\n\")]]"
   ]
  },
  {
   "attachments": {},
   "cell_type": "markdown",
   "metadata": {},
   "source": [
    "### Part 1"
   ]
  },
  {
   "cell_type": "code",
   "execution_count": null,
   "metadata": {},
   "outputs": [
    {
     "data": {
      "text/plain": [
       "5682"
      ]
     },
     "execution_count": 81,
     "metadata": {},
     "output_type": "execute_result"
    }
   ],
   "source": [
    "def less(first, second):\n",
    "    if isinstance(first, int) and isinstance(second, int):\n",
    "        return second - first\n",
    "    if isinstance(first, list) and isinstance(second, list):\n",
    "        for i in range(min(len(first), len(second))):\n",
    "            res = less(first[i], second[i])\n",
    "            if res:\n",
    "                return res\n",
    "        return len(second) - len(first)\n",
    "    if isinstance(first, int):\n",
    "        return less([first], second)\n",
    "    else:\n",
    "        return less(first, [second])\n",
    "        \n",
    "index_sum = 0\n",
    "for i in range(len(pairs)):\n",
    "    if less(pairs[i][0], pairs[i][1]) > 0:\n",
    "        index_sum += i + 1\n",
    "\n",
    "index_sum"
   ]
  },
  {
   "attachments": {},
   "cell_type": "markdown",
   "metadata": {},
   "source": [
    "### Part 2"
   ]
  },
  {
   "cell_type": "code",
   "execution_count": null,
   "metadata": {},
   "outputs": [
    {
     "data": {
      "text/plain": [
       "20304"
      ]
     },
     "execution_count": 82,
     "metadata": {},
     "output_type": "execute_result"
    }
   ],
   "source": [
    "all_packets = []\n",
    "\n",
    "for pair in pairs:\n",
    "    all_packets.append(pair[0])\n",
    "    all_packets.append(pair[1])\n",
    "\n",
    "count_first = 1\n",
    "count_second = 1\n",
    "\n",
    "for packet in all_packets:\n",
    "    if less(packet, [[2]]) > 0:\n",
    "        count_first += 1\n",
    "\n",
    "all_packets.append([[2]])\n",
    "\n",
    "for packet in all_packets:\n",
    "    if less(packet, [[6]]) > 0:\n",
    "        count_second += 1\n",
    "\n",
    "count_first * count_second"
   ]
  },
  {
   "attachments": {},
   "cell_type": "markdown",
   "metadata": {},
   "source": [
    "## Day 14"
   ]
  },
  {
   "cell_type": "code",
   "execution_count": null,
   "metadata": {},
   "outputs": [],
   "source": [
    "data = get_data(day=14)\n",
    "lines = data.splitlines()\n",
    "points = [line.split(\" -> \") for line in lines]\n",
    "paths = [[point.split(\",\") for point in segment] for segment in points]\n",
    "paths = [[(int(x), int(y)) for [x, y] in path] for path in paths]\n",
    "\n",
    "map = {}\n",
    "\n",
    "for path in paths:\n",
    "    for ((x1, y1), (x2, y2)) in windowed(path, 2):\n",
    "        if x1 == x2:\n",
    "            if y1 <= y2:\n",
    "                for i in range(y1, y2 + 1):\n",
    "                    map[x1, i] = 0\n",
    "            else:\n",
    "                for i in range(y2, y1 + 1):\n",
    "                    map[x1, i] = 0\n",
    "        elif y1 == y2:\n",
    "            if x1 <= x2:\n",
    "                for i in range(x1, x2 + 1):\n",
    "                    map[i, y1] = 0\n",
    "            else:\n",
    "                for i in range(x2, x1 + 1):\n",
    "                    map[i, y2] = 0\n",
    "\n",
    "max_y = max([max([point[1] for point in path]) for path in paths])\n"
   ]
  },
  {
   "attachments": {},
   "cell_type": "markdown",
   "metadata": {},
   "source": [
    "### Part 1"
   ]
  },
  {
   "cell_type": "code",
   "execution_count": null,
   "metadata": {},
   "outputs": [
    {
     "data": {
      "text/plain": [
       "913"
      ]
     },
     "execution_count": 84,
     "metadata": {},
     "output_type": "execute_result"
    }
   ],
   "source": [
    "\n",
    "def count_sand(map):\n",
    "    count = 0\n",
    "    while True:\n",
    "        x, y = 500, 0\n",
    "\n",
    "        while True:\n",
    "            if (x, y + 1) not in map:\n",
    "                y += 1\n",
    "            elif (x - 1, y + 1) not in map:\n",
    "                x -= 1\n",
    "                y += 1\n",
    "            elif (x + 1, y + 1) not in map:\n",
    "                x += 1\n",
    "                y += 1\n",
    "            else:\n",
    "                map[x, y] = 1\n",
    "                count += 1\n",
    "                break\n",
    "            \n",
    "            if y > max_y:\n",
    "                return count\n",
    "\n",
    "count_sand(copy.deepcopy(map))"
   ]
  },
  {
   "attachments": {},
   "cell_type": "markdown",
   "metadata": {},
   "source": [
    "### Part 2"
   ]
  },
  {
   "cell_type": "code",
   "execution_count": null,
   "metadata": {},
   "outputs": [
    {
     "data": {
      "text/plain": [
       "30762"
      ]
     },
     "execution_count": 85,
     "metadata": {},
     "output_type": "execute_result"
    }
   ],
   "source": [
    "\n",
    "floor = max_y + 2\n",
    "\n",
    "def count_sand_again(map):\n",
    "    count = 0\n",
    "    while True:\n",
    "        x, y = 500, 0\n",
    "\n",
    "        while True:\n",
    "            if y + 1 == floor:\n",
    "                map[x, y] = 1\n",
    "                count += 1\n",
    "                break\n",
    "            elif (x, y + 1) not in map:\n",
    "                y += 1\n",
    "            elif (x - 1, y + 1) not in map:\n",
    "                x -= 1\n",
    "                y += 1\n",
    "            elif (x + 1, y + 1) not in map:\n",
    "                x += 1\n",
    "                y += 1\n",
    "            else:\n",
    "                map[x, y] = 1\n",
    "                count += 1\n",
    "\n",
    "                if x == 500 and y == 0:\n",
    "                    return count\n",
    "\n",
    "                break\n",
    "\n",
    "\n",
    "count_sand_again(copy.deepcopy(map))"
   ]
  },
  {
   "attachments": {},
   "cell_type": "markdown",
   "metadata": {},
   "source": [
    "## Day 15"
   ]
  },
  {
   "cell_type": "code",
   "execution_count": null,
   "metadata": {},
   "outputs": [],
   "source": [
    "data = [ints(line) for line in get_data(day=15).splitlines()]"
   ]
  },
  {
   "attachments": {},
   "cell_type": "markdown",
   "metadata": {},
   "source": [
    "### Part 1"
   ]
  },
  {
   "cell_type": "code",
   "execution_count": null,
   "metadata": {},
   "outputs": [
    {
     "data": {
      "text/plain": [
       "5176944"
      ]
     },
     "execution_count": 87,
     "metadata": {},
     "output_type": "execute_result"
    }
   ],
   "source": [
    "# Each sensor creates a circle, which intersects with a given row/column 0, 1, or 2 times\n",
    "# This means we have a set of ranges which we must find the union of\n",
    "# Keep a list of ordered disjoint ranges, and add each new range to the list, merging if necessary\n",
    "\n",
    "from bisect import bisect_left, bisect_right\n",
    "\n",
    "\n",
    "def intersect(origin, radius, y):\n",
    "    # if abs(origin.y - y) > radius: no intersections\n",
    "    # if abs(origin.y - y) == radius: one intersection at (origin.x, y)\n",
    "    # else intersects over range [origin.x - diff, origin.x + diff] where diff = radius - abs(origin.y - y)\n",
    "    # note: 2 and 3 can be combined in practice\n",
    "    diff = radius - abs(origin[1] - y)\n",
    "    if diff < 0:\n",
    "        return (0, 0) # empty range\n",
    "    else:\n",
    "        return (origin[0] - diff, origin[0] + diff + 1)\n",
    "\n",
    "# Set of disjoint ranges\n",
    "class RangeSet:\n",
    "    def __init__(self):\n",
    "        # Ranges are disjoint and ordered by start and end index\n",
    "        # even indexes represent start of range, odd index represents the end\n",
    "        # so, [1, 3, 4, 5] represents two ranges, [1, 3) and [4, 5)\n",
    "        self.ranges = []\n",
    "    \n",
    "    def add(self, start, end):\n",
    "        # first, binary search for the start and end index\n",
    "        # if either index is even, then it is not covered by the current set\n",
    "        # replace indices between start and end with the new range\n",
    "        if start == end:\n",
    "            return # ignore empty sets\n",
    "\n",
    "        start_index = bisect_left(self.ranges, start)\n",
    "        end_index = bisect_right(self.ranges, end)\n",
    "\n",
    "        new_range = []\n",
    "        if start_index % 2 == 0:\n",
    "            new_range.append(start)\n",
    "        if end_index % 2 == 0:\n",
    "            new_range.append(end)\n",
    "        \n",
    "        self.ranges[start_index:end_index] = new_range\n",
    "    \n",
    "    def rm(self, start, end):\n",
    "        # same thing for remove, but for odd indexes\n",
    "        if start == end:\n",
    "            return # ignore empty sets\n",
    "\n",
    "        start_index = bisect_left(self.ranges, start)\n",
    "        end_index = bisect_right(self.ranges, end)\n",
    "\n",
    "        new_range = []\n",
    "        if start_index % 2 == 1:\n",
    "            new_range.append(start)\n",
    "        if end_index % 2 == 1:\n",
    "            new_range.append(end)\n",
    "        \n",
    "        self.ranges[start_index:end_index] = new_range\n",
    "\n",
    "    def covered(self):\n",
    "        return sum(b - a for a, b in chunked(self.ranges, 2))\n",
    "\n",
    "def dist(p1, p2):\n",
    "    return abs(p2[0] - p1[0]) + abs(p2[1] - p1[1])\n",
    "\n",
    "def find_covered(data, row):\n",
    "    rset = RangeSet()\n",
    "    beacons = []\n",
    "    for sx, sy, bx, by in data:\n",
    "        origin = (sx, sy)\n",
    "        radius = dist(origin, (bx, by))\n",
    "        rx, ry = intersect(origin, radius, row)\n",
    "        rset.add(rx, ry)\n",
    "\n",
    "        if by == row: # Handle case where beacon is on desired row\n",
    "            beacons.append(bx)\n",
    "\n",
    "    for bx in beacons:\n",
    "        rset.rm(bx, bx + 1)\n",
    "\n",
    "    return rset.covered()\n",
    "\n",
    "find_covered(data, 2000000)"
   ]
  },
  {
   "attachments": {},
   "cell_type": "markdown",
   "metadata": {},
   "source": [
    "### Part 2"
   ]
  },
  {
   "cell_type": "code",
   "execution_count": null,
   "metadata": {},
   "outputs": [
    {
     "data": {
      "text/plain": [
       "13350458933732"
      ]
     },
     "execution_count": 88,
     "metadata": {},
     "output_type": "execute_result"
    }
   ],
   "source": [
    "def find_missing():\n",
    "    for i in range(4000000):\n",
    "        rset = RangeSet()\n",
    "        rset.add(0, 4000000)\n",
    "        for sx, sy, bx, by in data:\n",
    "            origin = (sx, sy)\n",
    "            radius = dist(origin, (bx, by))\n",
    "            rx, ry = intersect(origin, radius, i)\n",
    "            rset.rm(rx, ry)\n",
    "\n",
    "        if rset.covered():\n",
    "            return rset.ranges[0] * 4000000 + i\n",
    "            \n",
    "find_missing()"
   ]
  },
  {
   "attachments": {},
   "cell_type": "markdown",
   "metadata": {},
   "source": [
    "## Day 16"
   ]
  },
  {
   "cell_type": "code",
   "execution_count": null,
   "metadata": {},
   "outputs": [],
   "source": [
    "data = get_data(day=16)\n",
    "\n",
    "@dataclass\n",
    "class Valve:\n",
    "    name: str\n",
    "    rate: int\n",
    "    leads_to: list[str]\n",
    "\n",
    "valves = {}\n",
    "\n",
    "for line in data.splitlines():\n",
    "    name = line.split(\" \")[1]\n",
    "    rate = ints(line)[0]\n",
    "    leads_to = re.split(r\"lead[s]? to valve[s]? \", line)\n",
    "    leads_to = leads_to[1].split(\", \")\n",
    "    valves[name] = Valve(name, rate, leads_to)"
   ]
  },
  {
   "cell_type": "code",
   "execution_count": null,
   "metadata": {},
   "outputs": [],
   "source": [
    "def cost_from(start):\n",
    "    costs = []\n",
    "    visited = {start}\n",
    "    heap = [(0, start)]\n",
    "\n",
    "    while heap:\n",
    "        (steps, next) = heapq.heappop(heap)\n",
    "\n",
    "        if valves[next].rate > 0:\n",
    "            costs.append((steps, next))\n",
    "\n",
    "        for neighbor in valves[next].leads_to:\n",
    "            if not neighbor in visited:\n",
    "                visited.add(neighbor)\n",
    "                heapq.heappush(heap, (steps + 1, neighbor))\n",
    "    \n",
    "    return costs\n",
    "\n",
    "def compressed_graph():\n",
    "    # find cost from each non-zero node to each other non-zero node\n",
    "    # search all paths between them in non-zero time (not revisiting nodes)\n",
    "    root_costs = cost_from(\"AA\")\n",
    "    graph = {}\n",
    "    for cost, valve in root_costs:\n",
    "        graph[valve] = cost_from(valve)\n",
    "    \n",
    "    graph[\"AA\"] = root_costs\n",
    "    return graph"
   ]
  },
  {
   "attachments": {},
   "cell_type": "markdown",
   "metadata": {},
   "source": [
    "### Part 1"
   ]
  },
  {
   "cell_type": "code",
   "execution_count": null,
   "metadata": {},
   "outputs": [
    {
     "data": {
      "text/plain": [
       "1789"
      ]
     },
     "execution_count": 94,
     "metadata": {},
     "output_type": "execute_result"
    }
   ],
   "source": [
    "def max_pressure(graph, valve: str, step: int, visited):\n",
    "    if step >= 30:\n",
    "        return 0\n",
    "\n",
    "    rate = valves[valve].rate\n",
    "    gained = 0\n",
    "    if rate > 0:\n",
    "        step += 1\n",
    "        gained += (30 - step) * rate\n",
    "    \n",
    "    max_p = 0\n",
    "    for cost, next in graph[valve]:\n",
    "        if not next in visited:\n",
    "            visited.add(next)\n",
    "            max_p = max(max_p, max_pressure(graph, next, step + cost, visited))\n",
    "            visited.remove(next)\n",
    "    \n",
    "    return gained + max_p\n",
    "\n",
    "cgraph = compressed_graph()\n",
    "max_pressure(cgraph, \"AA\", 0, set())"
   ]
  },
  {
   "attachments": {},
   "cell_type": "markdown",
   "metadata": {},
   "source": [
    "### Part 2"
   ]
  },
  {
   "cell_type": "code",
   "execution_count": null,
   "metadata": {},
   "outputs": [
    {
     "data": {
      "text/plain": [
       "2496"
      ]
     },
     "execution_count": 106,
     "metadata": {},
     "output_type": "execute_result"
    }
   ],
   "source": [
    "cache = {}\n",
    "\n",
    "def max_pressure_with_el(graph, valve: str, step: int, el: bool, visited):\n",
    "    key = (valve, step, el, frozenset(visited))\n",
    "    if key in cache:\n",
    "        return cache[key]\n",
    "\n",
    "    if step >= 26:\n",
    "        if el:\n",
    "            return 0\n",
    "        else:\n",
    "            res = max_pressure_with_el(graph, \"AA\", 0, True, visited)\n",
    "            cache[key] = res\n",
    "            return res\n",
    "\n",
    "    rate = valves[valve].rate\n",
    "    gained = 0\n",
    "    if rate > 0:\n",
    "        step += 1\n",
    "        gained += (26 - step) * rate\n",
    "    \n",
    "    max_p = 0\n",
    "    for cost, next in graph[valve]:\n",
    "        if not next in visited:\n",
    "            visited.add(next)\n",
    "            max_p = max(max_p, max_pressure_with_el(graph, next, step + cost, el, visited))\n",
    "            visited.remove(next)\n",
    "    \n",
    "    max_p += gained\n",
    "    cache[key] = max_p\n",
    "    return max_p\n",
    "\n",
    "max_pressure_with_el(cgraph, \"AA\", 0, False, set())"
   ]
  },
  {
   "attachments": {},
   "cell_type": "markdown",
   "metadata": {},
   "source": [
    "## Day 17"
   ]
  },
  {
   "cell_type": "code",
   "execution_count": null,
   "metadata": {},
   "outputs": [],
   "source": [
    "data = get_data(day=17)\n",
    "\n",
    "rock_shapes = [\n",
    "    [\n",
    "        [1, 1, 1, 1]\n",
    "    ],\n",
    "    [\n",
    "        [0, 1, 0],\n",
    "        [1, 1, 1],\n",
    "        [0, 1, 0],\n",
    "    ],\n",
    "    [\n",
    "        [0, 0, 1],\n",
    "        [0, 0, 1],\n",
    "        [1, 1, 1],\n",
    "    ],\n",
    "    [\n",
    "        [1],\n",
    "        [1],\n",
    "        [1],\n",
    "        [1],\n",
    "    ],\n",
    "    [\n",
    "        [1, 1],\n",
    "        [1, 1]\n",
    "    ]\n",
    "]\n",
    "\n",
    "class Jets:\n",
    "    def __init__(self, data):\n",
    "        self.data = data\n",
    "        self.index = 0\n",
    "    \n",
    "    def next(self):\n",
    "        res = self.data[self.index]\n",
    "        self.index = (self.index + 1) % len(self.data)\n",
    "        if res == '<':\n",
    "            return (-1, 0)\n",
    "        else:\n",
    "            return (1, 0)\n",
    "    \n",
    "class Rock:\n",
    "    def __init__(self, shape, pos, board):\n",
    "        self.shape = shape\n",
    "        self.pos = pos # coord of bottom left pixel\n",
    "        self.board = board\n",
    "        self.width = len(shape[0])\n",
    "        self.height = len(shape)\n",
    "\n",
    "    def move(self, delta):\n",
    "        ox, oy = self.pos\n",
    "        dx, dy = delta\n",
    "        self.pos = (ox + dx, oy + dy)\n",
    "\n",
    "        if self.check_collision():\n",
    "            self.pos = (ox, oy)\n",
    "            return False\n",
    "\n",
    "        return True\n",
    "    \n",
    "    def freeze(self):\n",
    "        px, py = self.pos\n",
    "        for h in range(0, self.height):\n",
    "            for w in range(0, self.width):\n",
    "                if self.shape[self.height - h - 1][w]:\n",
    "                    x, y = px + w, py + h\n",
    "                    self.board[x, y] = 1\n",
    "\n",
    "\n",
    "    def check_collision(self):\n",
    "        px, py = self.pos\n",
    "        for h in range(0, self.height):\n",
    "            for w in range(0, self.width):\n",
    "                if self.shape[self.height - h - 1][w]:\n",
    "                    x, y = px + w, py + h\n",
    "                    if self.board[x, y]:\n",
    "                        return True\n",
    "        \n",
    "        return False\n",
    "\n",
    "class Board:\n",
    "    def __init__(self, width):\n",
    "        self.width = width\n",
    "        self.height = 0\n",
    "        self.base = 0\n",
    "        self.offset = 0\n",
    "        self.capacity = 64\n",
    "        self.board = [[0 for _ in range(self.capacity)] for _ in range(width)]\n",
    "\n",
    "    def serialize(self):\n",
    "        assert self.width == 7 # so we can convert row to char\n",
    "        result = \"\"\n",
    "        for y in range(self.base, self.height):\n",
    "            row = 0\n",
    "            for x in range(self.width):\n",
    "                row |= self[x, y] << x\n",
    "            result += chr(row)\n",
    "        return result\n",
    "    \n",
    "    def expand(self):\n",
    "        new_board = []\n",
    "        for col in self.board:\n",
    "            new_col = []\n",
    "            for i in range(self.capacity):\n",
    "                new_col.append(col[(i + self.offset) % self.capacity])\n",
    "            new_col.extend([0] * self.capacity)\n",
    "            new_board.append(new_col)\n",
    "        self.offset = 0\n",
    "        self.capacity *= 2\n",
    "        self.board = new_board\n",
    "\n",
    "    def get_index(self, y):\n",
    "        assert y >= self.base\n",
    "        if (y - self.base >= self.capacity):\n",
    "            self.expand()\n",
    "        \n",
    "        return (y - self.base + self.offset) % self.capacity\n",
    "\n",
    "    def __getitem__(self, key):\n",
    "        x, y = key\n",
    "\n",
    "        if x < 0 or x >= self.width or y < self.base:\n",
    "            return 1\n",
    "\n",
    "        if y >= self.height:\n",
    "            return 0\n",
    "        \n",
    "        y = self.get_index(y)\n",
    "        return self.board[x][y]\n",
    "    \n",
    "    def __setitem__(self, key, value):\n",
    "        x, y = key\n",
    "\n",
    "        if y < self.base:\n",
    "            return # below baseline, already set\n",
    "\n",
    "        if y >= self.height:\n",
    "            self.height = y + 1\n",
    "\n",
    "        iy = self.get_index(y)\n",
    "\n",
    "        self.board[x][iy] = value\n",
    "\n",
    "        for col in self.board:\n",
    "            if not col[iy]:\n",
    "                return\n",
    "\n",
    "        self.base = y + 1\n",
    "\n",
    "        for col in self.board:\n",
    "            col[self.offset] = 0\n",
    "\n",
    "        while self.offset != iy:\n",
    "            self.offset = (self.offset + 1) % self.capacity\n",
    "            for col in self.board:\n",
    "                col[self.offset] = 0\n",
    "\n",
    "        self.offset = (self.offset + 1) % self.capacity\n",
    "    \n",
    "class Game:\n",
    "    def __init__(self, input):\n",
    "        self.rock_index = 0\n",
    "        self.jets = Jets(input)\n",
    "        self.board = Board(7)\n",
    "\n",
    "    def serialize(self):\n",
    "        return (self.rock_index, self.jets.index, self.board.serialize())\n",
    "\n",
    "    def place_rock(self):\n",
    "        rock = self.spawn_rock()\n",
    "        rock.move(self.jets.next())\n",
    "\n",
    "        while rock.move((0, -1)):\n",
    "            rock.move(self.jets.next())\n",
    "        \n",
    "        rock.freeze()\n",
    "    \n",
    "    def spawn_rock(self):\n",
    "        shape = rock_shapes[self.rock_index]\n",
    "        self.rock_index = (self.rock_index + 1) % len(rock_shapes)\n",
    "        return Rock(shape, (2, self.board.height + 3), self.board)"
   ]
  },
  {
   "attachments": {},
   "cell_type": "markdown",
   "metadata": {},
   "source": [
    "### Part 1"
   ]
  },
  {
   "cell_type": "code",
   "execution_count": null,
   "metadata": {},
   "outputs": [
    {
     "data": {
      "text/plain": [
       "3069"
      ]
     },
     "execution_count": 108,
     "metadata": {},
     "output_type": "execute_result"
    }
   ],
   "source": [
    "game = Game(data)\n",
    "for _ in range(2022):\n",
    "    game.place_rock()\n",
    "game.board.height"
   ]
  },
  {
   "cell_type": "markdown",
   "metadata": {},
   "source": [
    "### Part 2"
   ]
  },
  {
   "cell_type": "code",
   "execution_count": null,
   "metadata": {},
   "outputs": [
    {
     "data": {
      "text/plain": [
       "1523167155404"
      ]
     },
     "execution_count": 41,
     "metadata": {},
     "output_type": "execute_result"
    }
   ],
   "source": [
    "def tetris_with_cache(game, rounds):\n",
    "    cache = {}\n",
    "\n",
    "    for round in range(rounds):\n",
    "        serialized = game.serialize()\n",
    "        if serialized in cache:\n",
    "            # cycle detected\n",
    "            prev_round, prev_height = cache[serialized]\n",
    "            cycle_length = round - prev_round\n",
    "            cycle_height = game.board.height - prev_height\n",
    "\n",
    "            acc = ((rounds - round) // cycle_length) * cycle_height\n",
    "            remaining = (rounds - round) % cycle_length\n",
    "            return acc + tetris_with_cache(game, remaining)\n",
    "\n",
    "        cache[serialized] = (round, game.board.height)\n",
    "        game.place_rock()\n",
    "    \n",
    "    return game.board.height\n",
    "\n",
    "tetris_with_cache(Game(data), 1000000000000)"
   ]
  },
  {
   "attachments": {},
   "cell_type": "markdown",
   "metadata": {},
   "source": [
    "## Day 18"
   ]
  },
  {
   "cell_type": "code",
   "execution_count": null,
   "metadata": {},
   "outputs": [],
   "source": [
    "data = get_data(day=18)\n",
    "cubes = set(tuple(ints(line)) for line in data.splitlines())"
   ]
  },
  {
   "attachments": {},
   "cell_type": "markdown",
   "metadata": {},
   "source": [
    "### Part 1"
   ]
  },
  {
   "cell_type": "code",
   "execution_count": 40,
   "metadata": {},
   "outputs": [
    {
     "data": {
      "text/plain": [
       "4604"
      ]
     },
     "execution_count": 40,
     "metadata": {},
     "output_type": "execute_result"
    }
   ],
   "source": [
    "sides = [\n",
    "    (1, 0, 0),\n",
    "    (-1, 0, 0),\n",
    "    (0, 1, 0),\n",
    "    (0, -1, 0),\n",
    "    (0, 0, 1),\n",
    "    (0, 0, -1),\n",
    "]\n",
    "\n",
    "surface_area = 0\n",
    "for (x, y, z) in cubes:\n",
    "    for (dx, dy, dz) in sides:\n",
    "        if (x + dx, y + dy, z + dz) not in cubes:\n",
    "            surface_area += 1\n",
    "\n",
    "surface_area"
   ]
  },
  {
   "cell_type": "markdown",
   "metadata": {},
   "source": [
    "### Part 2"
   ]
  },
  {
   "cell_type": "code",
   "execution_count": 43,
   "metadata": {},
   "outputs": [
    {
     "data": {
      "text/plain": [
       "2604"
      ]
     },
     "execution_count": 43,
     "metadata": {},
     "output_type": "execute_result"
    }
   ],
   "source": [
    "hx0 = min([x for x, _, _ in cubes]) - 1\n",
    "hx1 = max([x for x, _, _ in cubes]) + 1\n",
    "hy0 = min([y for _, y, _ in cubes]) - 1\n",
    "hy1 = max([y for _, y, _ in cubes]) + 1\n",
    "hz0 = min([z for _, _, z in cubes]) - 1\n",
    "hz1 = max([z for _, _, z in cubes]) + 1\n",
    "\n",
    "out = set((hx0, hy0, hz0))\n",
    "stack = [(hx0, hy0, hz0)]\n",
    "\n",
    "while stack:\n",
    "    x, y, z = stack.pop()\n",
    "    for (dx, dy, dz) in sides:\n",
    "        nx, ny, nz = x + dx, y + dy, z + dz\n",
    "        if nx < hx0 or ny < hy0 or nz < hz0:\n",
    "            continue\n",
    "        if nx > hx1 or ny > hy1 or nz > hz1:\n",
    "            continue\n",
    "        if (nx, ny, nz) not in out and (nx, ny, nz) not in cubes:\n",
    "            out.add((nx, ny, nz))\n",
    "            stack.append((nx, ny, nz))\n",
    "\n",
    "surface_area = 0\n",
    "for (x, y, z) in cubes:\n",
    "    for (dx, dy, dz) in sides:\n",
    "        if (x + dx, y + dy, z + dz) in out:\n",
    "            surface_area += 1\n",
    "\n",
    "surface_area"
   ]
  }
 ],
 "metadata": {
  "kernelspec": {
   "display_name": "py3.10",
   "language": "python",
   "name": "python3"
  },
  "language_info": {
   "codemirror_mode": {
    "name": "ipython",
    "version": 3
   },
   "file_extension": ".py",
   "mimetype": "text/x-python",
   "name": "python",
   "nbconvert_exporter": "python",
   "pygments_lexer": "ipython3",
   "version": "3.10.8"
  },
  "metadata": {
   "interpreter": {
    "hash": "170cc9390f1515677318aed99be3a225317e0f4052bb699af2fa999a79bb2149"
   }
  },
  "orig_nbformat": 4,
  "vscode": {
   "interpreter": {
    "hash": "3aef9417b89ed26eb40f0765b1691482a3434631bbb963fab5f4d24c2ce2d880"
   }
  }
 },
 "nbformat": 4,
 "nbformat_minor": 2
}
