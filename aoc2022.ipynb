{
 "cells": [
  {
   "cell_type": "markdown",
   "metadata": {},
   "source": [
    "# Advent of Code: 2022"
   ]
  },
  {
   "cell_type": "code",
   "execution_count": 2,
   "metadata": {},
   "outputs": [],
   "source": [
    "from aocd import get_data\n",
    "import re\n",
    "\n",
    "def uints(input: str) -> list[int]:\n",
    "    return [int(i) for i in re.findall(r\"\\d+\", input)]\n",
    "\n",
    "def ints(input: str) -> list[int]:\n",
    "    return [int(i) for i in re.findall(r\"-?\\d+\", input)]"
   ]
  },
  {
   "cell_type": "markdown",
   "metadata": {},
   "source": [
    "## Day 1"
   ]
  },
  {
   "cell_type": "code",
   "execution_count": 2,
   "metadata": {},
   "outputs": [],
   "source": [
    "data = get_data(day=1).split(\"\\n\\n\")\n",
    "data = [group.splitlines() for group in data]"
   ]
  },
  {
   "cell_type": "markdown",
   "metadata": {},
   "source": [
    "### Part 1"
   ]
  },
  {
   "cell_type": "code",
   "execution_count": 3,
   "metadata": {},
   "outputs": [
    {
     "data": {
      "text/plain": [
       "71471"
      ]
     },
     "execution_count": 3,
     "metadata": {},
     "output_type": "execute_result"
    }
   ],
   "source": [
    "sums = [sum([int(cal) for cal in group]) for group in data]\n",
    "max(sums)"
   ]
  },
  {
   "cell_type": "markdown",
   "metadata": {},
   "source": [
    "### Part 2"
   ]
  },
  {
   "cell_type": "code",
   "execution_count": 4,
   "metadata": {},
   "outputs": [
    {
     "data": {
      "text/plain": [
       "211189"
      ]
     },
     "execution_count": 4,
     "metadata": {},
     "output_type": "execute_result"
    }
   ],
   "source": [
    "sums.sort()\n",
    "\n",
    "sum(sums[-3:])"
   ]
  },
  {
   "cell_type": "markdown",
   "metadata": {},
   "source": [
    "## Day 2"
   ]
  },
  {
   "cell_type": "code",
   "execution_count": 5,
   "metadata": {},
   "outputs": [],
   "source": [
    "data = get_data(day=2)\n",
    "lines = data.splitlines()\n",
    "rounds = [line.split(\" \") for line in lines]"
   ]
  },
  {
   "cell_type": "markdown",
   "metadata": {},
   "source": [
    "### Part 1"
   ]
  },
  {
   "cell_type": "code",
   "execution_count": 6,
   "metadata": {},
   "outputs": [
    {
     "data": {
      "text/plain": [
       "15691"
      ]
     },
     "execution_count": 6,
     "metadata": {},
     "output_type": "execute_result"
    }
   ],
   "source": [
    "def to_rps(char):\n",
    "    match char:\n",
    "        case 'A' | 'X':\n",
    "            return 0\n",
    "        case 'B' | 'Y':\n",
    "            return 1\n",
    "        case 'C' | 'Z':\n",
    "            return 2\n",
    "\n",
    "def do_round(round):\n",
    "    [a, b] = [to_rps(char) for char in round]\n",
    "\n",
    "    if a == b:\n",
    "        return 3 + b + 1\n",
    "    if b == (a + 1) % 3:\n",
    "        return 6 + b + 1\n",
    "    else:\n",
    "        return 0 + b + 1\n",
    "    \n",
    "\n",
    "sum([do_round(round) for round in rounds])"
   ]
  },
  {
   "cell_type": "markdown",
   "metadata": {},
   "source": [
    "### Part 2"
   ]
  },
  {
   "cell_type": "code",
   "execution_count": 7,
   "metadata": {},
   "outputs": [
    {
     "data": {
      "text/plain": [
       "12989"
      ]
     },
     "execution_count": 7,
     "metadata": {},
     "output_type": "execute_result"
    }
   ],
   "source": [
    "def to_mod_rps(a, b):\n",
    "    a, b = to_rps(a), to_rps(b)\n",
    "    newb = (a + b - 1) % 3\n",
    "\n",
    "    return newb + 4 + (b - 1) * 3\n",
    "\n",
    "sum([to_mod_rps(a, b) for [a, b] in rounds])"
   ]
  },
  {
   "cell_type": "markdown",
   "metadata": {},
   "source": [
    "## Day 3"
   ]
  },
  {
   "cell_type": "code",
   "execution_count": 8,
   "metadata": {},
   "outputs": [],
   "source": [
    "data = get_data(day=3)\n",
    "lines = data.splitlines()"
   ]
  },
  {
   "cell_type": "markdown",
   "metadata": {},
   "source": [
    "### Part 1"
   ]
  },
  {
   "cell_type": "code",
   "execution_count": 9,
   "metadata": {},
   "outputs": [
    {
     "data": {
      "text/plain": [
       "8053"
      ]
     },
     "execution_count": 9,
     "metadata": {},
     "output_type": "execute_result"
    }
   ],
   "source": [
    "def find_dupe(line: str):\n",
    "    first, second = line[:len(line)//2], line[len(line)//2:]\n",
    "    int = set(first).intersection(set(second))\n",
    "    return ord(int.pop())\n",
    "\n",
    "def priority(char: int):\n",
    "    if char in range(ord('a'), ord('z') + 1):\n",
    "        return char - ord('a') + 1\n",
    "    else:\n",
    "        return char - ord('A') + 27\n",
    "\n",
    "sum([priority(find_dupe(line)) for line in lines])"
   ]
  },
  {
   "cell_type": "markdown",
   "metadata": {},
   "source": [
    "### Part 2"
   ]
  },
  {
   "cell_type": "code",
   "execution_count": 10,
   "metadata": {},
   "outputs": [
    {
     "data": {
      "text/plain": [
       "2425"
      ]
     },
     "execution_count": 10,
     "metadata": {},
     "output_type": "execute_result"
    }
   ],
   "source": [
    "from more_itertools import chunked\n",
    "\n",
    "def find_in_group(group):\n",
    "    [a, b, c] = group\n",
    "    return priority(ord(set(a).intersection(set(b)).intersection(set(c)).pop()))\n",
    "\n",
    "sum([find_in_group(group) for group in chunked(lines, 3)])"
   ]
  },
  {
   "cell_type": "markdown",
   "metadata": {},
   "source": [
    "## Day 4"
   ]
  },
  {
   "cell_type": "code",
   "execution_count": 11,
   "metadata": {},
   "outputs": [],
   "source": [
    "data = get_data(day=4)\n",
    "lines = data.splitlines()\n",
    "pairs = [uints(line) for line in lines]"
   ]
  },
  {
   "cell_type": "markdown",
   "metadata": {},
   "source": [
    "### Part 1"
   ]
  },
  {
   "cell_type": "code",
   "execution_count": 12,
   "metadata": {},
   "outputs": [
    {
     "data": {
      "text/plain": [
       "448"
      ]
     },
     "execution_count": 12,
     "metadata": {},
     "output_type": "execute_result"
    }
   ],
   "source": [
    "def contains(pair):\n",
    "    a, b, c, d = pair \n",
    "    return a <= c and b >= d or a >= c and b <= d\n",
    "\n",
    "len([pair for pair in pairs if contains(pair)])"
   ]
  },
  {
   "cell_type": "markdown",
   "metadata": {},
   "source": [
    "### Part 2"
   ]
  },
  {
   "cell_type": "code",
   "execution_count": 13,
   "metadata": {},
   "outputs": [
    {
     "data": {
      "text/plain": [
       "794"
      ]
     },
     "execution_count": 13,
     "metadata": {},
     "output_type": "execute_result"
    }
   ],
   "source": [
    "def overlaps(pair):\n",
    "    a, b, c, d = pair \n",
    "    return a <= d and b >= c or a >= d and b <= c\n",
    "\n",
    "len([pair for pair in pairs if overlaps(pair)])"
   ]
  },
  {
   "cell_type": "markdown",
   "metadata": {},
   "source": [
    "## Day 5"
   ]
  },
  {
   "cell_type": "code",
   "execution_count": 14,
   "metadata": {},
   "outputs": [],
   "source": [
    "from collections import defaultdict\n",
    "\n",
    "data = get_data(day=5)\n",
    "stack, moves = data.split(\"\\n\\n\")\n",
    "stack_lines = stack.splitlines()\n",
    "\n",
    "orig_stacks = defaultdict(list)\n",
    "\n",
    "for line in stack_lines[:-1]:\n",
    "    s = 1\n",
    "    for i in range(1, len(line), 4):\n",
    "        crate = line[i]\n",
    "        if crate != ' ':\n",
    "            orig_stacks[s].insert(0, crate)\n",
    "        s += 1\n",
    "\n",
    "moves = [ints(move) for move in moves.splitlines()]"
   ]
  },
  {
   "cell_type": "markdown",
   "metadata": {},
   "source": [
    "### Part 1"
   ]
  },
  {
   "cell_type": "code",
   "execution_count": 15,
   "metadata": {},
   "outputs": [
    {
     "data": {
      "text/plain": [
       "'QNHWJVJZW'"
      ]
     },
     "execution_count": 15,
     "metadata": {},
     "output_type": "execute_result"
    }
   ],
   "source": [
    "from copy import deepcopy\n",
    "\n",
    "stacks = deepcopy(orig_stacks)\n",
    "\n",
    "for cnt, fr, to in moves:\n",
    "    for i in range(0, cnt):\n",
    "        stacks[to].append(stacks[fr].pop())\n",
    "\n",
    "out = \"\"\n",
    "for k in sorted(stacks):\n",
    "    out += stacks[k][-1]\n",
    "\n",
    "out"
   ]
  },
  {
   "cell_type": "markdown",
   "metadata": {},
   "source": [
    "### Part 2"
   ]
  },
  {
   "cell_type": "code",
   "execution_count": 16,
   "metadata": {},
   "outputs": [
    {
     "data": {
      "text/plain": [
       "'BPCZJLFJW'"
      ]
     },
     "execution_count": 16,
     "metadata": {},
     "output_type": "execute_result"
    }
   ],
   "source": [
    "from copy import deepcopy\n",
    "\n",
    "stacks = deepcopy(orig_stacks)\n",
    "\n",
    "for cnt, fr, to in moves:\n",
    "    stacks[to] += stacks[fr][-cnt:]\n",
    "    stacks[fr] = stacks[fr][:-cnt]\n",
    "\n",
    "out = \"\"\n",
    "for k in sorted(stacks):\n",
    "    out += stacks[k][-1]\n",
    "\n",
    "out"
   ]
  },
  {
   "cell_type": "markdown",
   "metadata": {},
   "source": [
    "## Day 6"
   ]
  },
  {
   "cell_type": "code",
   "execution_count": 17,
   "metadata": {},
   "outputs": [],
   "source": [
    "data = get_data(day=6)"
   ]
  },
  {
   "cell_type": "markdown",
   "metadata": {},
   "source": [
    "### Part 1"
   ]
  },
  {
   "cell_type": "code",
   "execution_count": 18,
   "metadata": {},
   "outputs": [
    {
     "data": {
      "text/plain": [
       "1042"
      ]
     },
     "execution_count": 18,
     "metadata": {},
     "output_type": "execute_result"
    }
   ],
   "source": [
    "from more_itertools import windowed\n",
    "\n",
    "def find_uniq(num):\n",
    "    for i, window in enumerate(windowed(data, num)):\n",
    "        if len(set(window)) == num:\n",
    "            return i + num\n",
    "\n",
    "find_uniq(4)"
   ]
  },
  {
   "cell_type": "markdown",
   "metadata": {},
   "source": [
    "### Part 2"
   ]
  },
  {
   "cell_type": "code",
   "execution_count": 19,
   "metadata": {},
   "outputs": [
    {
     "data": {
      "text/plain": [
       "2980"
      ]
     },
     "execution_count": 19,
     "metadata": {},
     "output_type": "execute_result"
    }
   ],
   "source": [
    "find_uniq(14)"
   ]
  },
  {
   "cell_type": "markdown",
   "metadata": {},
   "source": [
    "## Day 7"
   ]
  },
  {
   "cell_type": "code",
   "execution_count": 20,
   "metadata": {},
   "outputs": [],
   "source": [
    "from dataclasses import dataclass\n",
    "\n",
    "lines = get_data(day=7).splitlines()\n",
    "\n",
    "@dataclass\n",
    "class Dir:\n",
    "    size: int\n",
    "    children: list[any]\n",
    "    parent: any\n",
    "\n",
    "    def add(self, size):\n",
    "        self.size += size\n",
    "        if self.parent:\n",
    "            self.parent.add(size)\n",
    "\n",
    "root = Dir(0, [], None)\n",
    "cur = None\n",
    "\n",
    "for line in lines:\n",
    "    if line.startswith(\"$\"):\n",
    "        if line == \"$ ls\":\n",
    "            continue\n",
    "        [_, cmd, file] = line.split()\n",
    "        match cmd, file:\n",
    "            case \"cd\", \"/\":\n",
    "                cur = root\n",
    "            case \"cd\", \"..\":\n",
    "                cur = cur.parent\n",
    "            case \"cd\", _:\n",
    "                new_dir = Dir(0, [], cur)\n",
    "                cur.children.append(new_dir)\n",
    "                cur = new_dir\n",
    "    else:\n",
    "        size = ints(line)\n",
    "        if not size:\n",
    "            continue\n",
    "        cur.add(size[0])"
   ]
  },
  {
   "cell_type": "markdown",
   "metadata": {},
   "source": [
    "### Part 1"
   ]
  },
  {
   "cell_type": "code",
   "execution_count": 21,
   "metadata": {},
   "outputs": [
    {
     "data": {
      "text/plain": [
       "1432936"
      ]
     },
     "execution_count": 21,
     "metadata": {},
     "output_type": "execute_result"
    }
   ],
   "source": [
    "def total_dirs(dir):\n",
    "    s = 0\n",
    "    if dir.size < 100000:\n",
    "        s += dir.size\n",
    "    \n",
    "    s += sum([total_dirs(child) for child in dir.children])\n",
    "    return s\n",
    "\n",
    "total_dirs(root)"
   ]
  },
  {
   "cell_type": "markdown",
   "metadata": {},
   "source": [
    "### Part 2"
   ]
  },
  {
   "cell_type": "code",
   "execution_count": 22,
   "metadata": {},
   "outputs": [
    {
     "data": {
      "text/plain": [
       "272298"
      ]
     },
     "execution_count": 22,
     "metadata": {},
     "output_type": "execute_result"
    }
   ],
   "source": [
    "free = 70000000 - root.size\n",
    "needed = 30000000 - free\n",
    "\n",
    "def find_smallest(dir):\n",
    "    smallest = [find_smallest(child) for child in dir.children]\n",
    "\n",
    "    if dir.size > needed:\n",
    "        smallest.append(dir.size)\n",
    "\n",
    "    smallest = list(filter(None, smallest))\n",
    "\n",
    "    if smallest:\n",
    "        return min(smallest)\n",
    "    else:\n",
    "        return None\n",
    "\n",
    "find_smallest(root)"
   ]
  },
  {
   "cell_type": "markdown",
   "metadata": {},
   "source": [
    "## Day 8"
   ]
  },
  {
   "cell_type": "code",
   "execution_count": 23,
   "metadata": {},
   "outputs": [],
   "source": [
    "data = get_data(day=8)\n",
    "forest = [[int(c) for c in line] for line in data.splitlines()]\n",
    "width = len(forest[0])\n",
    "height = len(forest)"
   ]
  },
  {
   "cell_type": "markdown",
   "metadata": {},
   "source": [
    "### Part 1"
   ]
  },
  {
   "cell_type": "code",
   "execution_count": 24,
   "metadata": {},
   "outputs": [
    {
     "data": {
      "text/plain": [
       "1827"
      ]
     },
     "execution_count": 24,
     "metadata": {},
     "output_type": "execute_result"
    }
   ],
   "source": [
    "def in_range(x, y):\n",
    "    return x >= 0 and y >= 0 and x < width and y < height\n",
    "\n",
    "def visible_from_edge(visible, pos, dir):\n",
    "    (x, y), (dx, dy), max = pos, dir, 0\n",
    "    visible.add(pos)\n",
    "    while in_range(x, y):\n",
    "        height = forest[y][x]\n",
    "        if height > max:\n",
    "            max = height\n",
    "            visible.add((x, y))\n",
    "        x += dx\n",
    "        y += dy\n",
    "\n",
    "def each_direction(result, func):\n",
    "    for x in range(0, width):\n",
    "        func(result, (x, 0), (0, 1))\n",
    "        func(result, (x, height - 1), (0, -1))\n",
    "\n",
    "    for y in range(0, height):\n",
    "        func(result, (0, y), (1, 0))\n",
    "        func(result, (width - 1, y), (-1, 0))\n",
    "\n",
    "visible = set()\n",
    "each_direction(visible, visible_from_edge)\n",
    "len(visible)"
   ]
  },
  {
   "cell_type": "markdown",
   "metadata": {},
   "source": [
    "### Part 2"
   ]
  },
  {
   "cell_type": "code",
   "execution_count": 25,
   "metadata": {},
   "outputs": [
    {
     "data": {
      "text/plain": [
       "335580"
      ]
     },
     "execution_count": 25,
     "metadata": {},
     "output_type": "execute_result"
    }
   ],
   "source": [
    "def visible_from_tree(scores, pos, dir):\n",
    "    (x, y), (dx, dy) = pos, dir\n",
    "    i, stack = 0, [(10, 0)]\n",
    "    \n",
    "    while in_range(x, y):\n",
    "        height = forest[y][x]\n",
    "\n",
    "        while stack[-1][0] < height:\n",
    "            stack.pop()\n",
    "\n",
    "        scores[(x, y)] *= i - stack[-1][1]\n",
    "        stack.append((height, i))\n",
    "\n",
    "        i += 1\n",
    "        x += dx\n",
    "        y += dy\n",
    "\n",
    "scores = defaultdict(lambda: 1)\n",
    "each_direction(scores, visible_from_tree)\n",
    "max(scores.values())"
   ]
  },
  {
   "cell_type": "markdown",
   "metadata": {},
   "source": [
    "## Day 9"
   ]
  },
  {
   "cell_type": "code",
   "execution_count": 26,
   "metadata": {},
   "outputs": [],
   "source": [
    "data = get_data(day=9)\n",
    "lines = data.splitlines()\n",
    "moves = [[d, int(steps)] for [d, steps] in [line.split() for line in lines]]"
   ]
  },
  {
   "cell_type": "markdown",
   "metadata": {},
   "source": [
    "### Part 1"
   ]
  },
  {
   "cell_type": "code",
   "execution_count": 27,
   "metadata": {},
   "outputs": [
    {
     "data": {
      "text/plain": [
       "5695"
      ]
     },
     "execution_count": 27,
     "metadata": {},
     "output_type": "execute_result"
    }
   ],
   "source": [
    "import numpy as np\n",
    "\n",
    "def simulate_rope(n):\n",
    "    visited = set()\n",
    "    rope = np.zeros((n, 2), dtype=int)\n",
    "\n",
    "    for m in moves:\n",
    "        for _ in range(m[1]):\n",
    "            match m[0]:\n",
    "                case 'U':\n",
    "                    rope[0, 1] -= 1\n",
    "                case 'D':\n",
    "                    rope[0, 1] += 1\n",
    "                case 'L':\n",
    "                    rope[0, 0] -= 1\n",
    "                case 'R':\n",
    "                    rope[0, 0] += 1\n",
    "            \n",
    "            for i in range(n - 1):\n",
    "                head, tail = rope[i], rope[i + 1]\n",
    "                dx, dy = head[0] - tail[0], head[1] - tail[1]\n",
    "\n",
    "                if abs(dx) > 1 or abs(dy) > 1:\n",
    "                    tail[0] += np.sign(dx)\n",
    "                    tail[1] += np.sign(dy)\n",
    "\n",
    "            visited.add(tuple(rope[-1]))\n",
    "    \n",
    "    return len(visited)\n",
    "\n",
    "simulate_rope(2)"
   ]
  },
  {
   "cell_type": "markdown",
   "metadata": {},
   "source": [
    "### Part 2"
   ]
  },
  {
   "cell_type": "code",
   "execution_count": 28,
   "metadata": {},
   "outputs": [
    {
     "data": {
      "text/plain": [
       "2434"
      ]
     },
     "execution_count": 28,
     "metadata": {},
     "output_type": "execute_result"
    }
   ],
   "source": [
    "simulate_rope(10)"
   ]
  },
  {
   "cell_type": "markdown",
   "metadata": {},
   "source": [
    "## Day 10"
   ]
  },
  {
   "cell_type": "code",
   "execution_count": 29,
   "metadata": {},
   "outputs": [],
   "source": [
    "data = get_data(day=10)\n",
    "program = [ints(line) for line in data.splitlines()]"
   ]
  },
  {
   "cell_type": "markdown",
   "metadata": {},
   "source": [
    "### Part 1"
   ]
  },
  {
   "cell_type": "code",
   "execution_count": 30,
   "metadata": {},
   "outputs": [
    {
     "data": {
      "text/plain": [
       "12740"
      ]
     },
     "execution_count": 30,
     "metadata": {},
     "output_type": "execute_result"
    }
   ],
   "source": [
    "class Cpu:\n",
    "    def __init__(self, program):\n",
    "        self.program = program\n",
    "        self.cycle = 1\n",
    "        self.adding = None\n",
    "        self.pc = 0\n",
    "        self.x = 1\n",
    "    \n",
    "    def tick(self):\n",
    "        self.cycle += 1\n",
    "        \n",
    "        if self.adding:\n",
    "            self.x += self.adding\n",
    "            self.pc += 1\n",
    "            self.adding = None\n",
    "            return\n",
    "\n",
    "        match self.program[self.pc]:\n",
    "            case []:\n",
    "                self.pc += 1\n",
    "            case [num]:\n",
    "                self.adding = num\n",
    "    \n",
    "signal = 0\n",
    "cpu = Cpu(program)\n",
    "for i in range(1, 221):\n",
    "    if (i - 20) % 40 == 0:\n",
    "        signal += cpu.x * cpu.cycle\n",
    "    cpu.tick()\n",
    "\n",
    "signal"
   ]
  },
  {
   "cell_type": "markdown",
   "metadata": {},
   "source": [
    "### Part 2"
   ]
  },
  {
   "cell_type": "code",
   "execution_count": 31,
   "metadata": {},
   "outputs": [
    {
     "data": {
      "text/plain": [
       "<matplotlib.image.AxesImage at 0x7f7bc88694e0>"
      ]
     },
     "execution_count": 31,
     "metadata": {},
     "output_type": "execute_result"
    },
    {
     "data": {
      "image/png": "[encoded data removed]",
      "text/plain": [
       "<Figure size 640x480 with 1 Axes>"
      ]
     },
     "metadata": {},
     "output_type": "display_data"
    }
   ],
   "source": [
    "import matplotlib.pyplot as plt\n",
    "\n",
    "cpu = Cpu(program)\n",
    "\n",
    "pixels = np.zeros(240)\n",
    "\n",
    "for i in range(0, 240):\n",
    "    pos = (cpu.cycle - 1) % 40\n",
    "    if abs(cpu.x - pos) <= 1:\n",
    "        pixels[i] = 1\n",
    "    cpu.tick()\n",
    "\n",
    "picture = pixels.reshape((6, 40)) \n",
    "\n",
    "plt.imshow(picture)"
   ]
  },
  {
   "cell_type": "markdown",
   "metadata": {},
   "source": [
    "## Day 11"
   ]
  },
  {
   "cell_type": "code",
   "execution_count": 32,
   "metadata": {},
   "outputs": [],
   "source": [
    "from dataclasses import dataclass\n",
    "\n",
    "@dataclass\n",
    "class Monkey:\n",
    "    items: list[int]\n",
    "    operation: any\n",
    "    test: int\n",
    "    if_true: int\n",
    "    if_false: int\n",
    "    num_inspec: int = 0\n",
    "\n",
    "def monkey(group):\n",
    "    _, items, op, test, ift, iff = group.splitlines()\n",
    "    items = ints(items)\n",
    "    _, op = op.split(\"new = \")\n",
    "    test = ints(test)[0]\n",
    "    ift = ints(ift)[0]\n",
    "    iff = ints(iff)[0]\n",
    "\n",
    "    return Monkey(items, op, test, ift, iff)\n",
    "\n",
    "data = get_data(day=11)\n",
    "monkeys = [monkey(group) for group in data.split(\"\\n\\n\")]\n",
    "\n",
    "def simulate(monkeys, rounds, dampen):\n",
    "    for round in range(0, rounds):\n",
    "        for monkey in monkeys:\n",
    "            while monkey.items:\n",
    "                monkey.num_inspec += 1\n",
    "                old = monkey.items.pop(0)\n",
    "                new = eval(monkey.operation)\n",
    "                new = dampen(new)\n",
    "                if new % monkey.test == 0:\n",
    "                    monkeys[monkey.if_true].items.append(new)\n",
    "                else:\n",
    "                    monkeys[monkey.if_false].items.append(new)\n",
    "\n",
    "    monkeys.sort(key=lambda monkey: monkey.num_inspec)\n",
    "    return monkeys[-2].num_inspec * monkeys[-1].num_inspec"
   ]
  },
  {
   "cell_type": "markdown",
   "metadata": {},
   "source": [
    "### Part 1"
   ]
  },
  {
   "cell_type": "code",
   "execution_count": 33,
   "metadata": {},
   "outputs": [
    {
     "data": {
      "text/plain": [
       "118674"
      ]
     },
     "execution_count": 33,
     "metadata": {},
     "output_type": "execute_result"
    }
   ],
   "source": [
    "import copy\n",
    "\n",
    "simulate(copy.deepcopy(monkeys), 20, lambda item: item // 3)"
   ]
  },
  {
   "cell_type": "markdown",
   "metadata": {},
   "source": [
    "### Part 2"
   ]
  },
  {
   "cell_type": "code",
   "execution_count": 34,
   "metadata": {},
   "outputs": [
    {
     "data": {
      "text/plain": [
       "32333418600"
      ]
     },
     "execution_count": 34,
     "metadata": {},
     "output_type": "execute_result"
    }
   ],
   "source": [
    "from math import prod\n",
    "\n",
    "p = prod([monkey.test for monkey in monkeys])\n",
    "simulate(copy.deepcopy(monkeys), 10000, lambda item: item % p)"
   ]
  },
  {
   "cell_type": "markdown",
   "metadata": {},
   "source": [
    "## Day 12"
   ]
  },
  {
   "cell_type": "code",
   "execution_count": 35,
   "metadata": {},
   "outputs": [],
   "source": [
    "data = get_data(day=12)\n",
    "grid = [list(line) for line in data.splitlines()]\n",
    "\n",
    "height = len(grid)\n",
    "width = len(grid[0])\n",
    "\n",
    "start = None\n",
    "dest = None\n",
    "for y in range(height):\n",
    "    for x in range(width):\n",
    "        if grid[y][x] == 'S':\n",
    "            start = (x, y)\n",
    "            grid[y][x] = 'a'\n",
    "        if grid[y][x] == 'E':\n",
    "            dest = (x, y)\n",
    "            grid[y][x] = 'z'\n"
   ]
  },
  {
   "cell_type": "markdown",
   "metadata": {},
   "source": [
    "### Part 1"
   ]
  },
  {
   "cell_type": "code",
   "execution_count": 36,
   "metadata": {},
   "outputs": [
    {
     "data": {
      "text/plain": [
       "481"
      ]
     },
     "execution_count": 36,
     "metadata": {},
     "output_type": "execute_result"
    }
   ],
   "source": [
    "import heapq\n",
    "\n",
    "def dijkstra(start, get_neighbors, is_success):\n",
    "    visited = {start}\n",
    "    heap = [(0, start)]\n",
    "\n",
    "    while heap:\n",
    "        (steps, next) = heapq.heappop(heap)\n",
    "\n",
    "        if is_success(next):\n",
    "            return steps\n",
    "\n",
    "        for neighbor in get_neighbors(next):\n",
    "            if not neighbor in visited:\n",
    "                visited.add(neighbor)\n",
    "                heapq.heappush(heap, (steps + 1, neighbor))\n",
    "\n",
    "directions = [[0, 1], [0, -1],[1, 0],[-1, 0]]\n",
    "\n",
    "def is_valid(x, y):\n",
    "    return x >= 0 and y >= 0 and x < width and y < height\n",
    "\n",
    "def can_step(source, dest):\n",
    "    (x1, y1), (x2, y2) = source, dest\n",
    "    return ord(grid[y1][x1]) >= ord(grid[y2][x2]) - 1\n",
    "\n",
    "def neighbors(source):\n",
    "    (x, y) = source\n",
    "    all = [(x + dx, y + dy) for [dx, dy] in directions]\n",
    "    return [(x, y) for (x, y) in all if is_valid(x, y) and can_step((x, y), source)]\n",
    "\n",
    "dijkstra(dest, neighbors, lambda p: p == start)"
   ]
  },
  {
   "cell_type": "markdown",
   "metadata": {},
   "source": [
    "### Part 2"
   ]
  },
  {
   "cell_type": "code",
   "execution_count": 37,
   "metadata": {},
   "outputs": [
    {
     "data": {
      "text/plain": [
       "480"
      ]
     },
     "execution_count": 37,
     "metadata": {},
     "output_type": "execute_result"
    }
   ],
   "source": [
    "dijkstra(dest, neighbors, lambda p: grid[p[1]][p[0]] == 'a')"
   ]
  },
  {
   "attachments": {},
   "cell_type": "markdown",
   "metadata": {},
   "source": [
    "## Day 13"
   ]
  },
  {
   "cell_type": "code",
   "execution_count": 38,
   "metadata": {},
   "outputs": [],
   "source": [
    "data = get_data(day=13)\n",
    "pairs = [(eval(first), eval(second)) for [first, second] in [group.splitlines() for group in data.split(\"\\n\\n\")]]"
   ]
  },
  {
   "attachments": {},
   "cell_type": "markdown",
   "metadata": {},
   "source": [
    "### Part 1"
   ]
  },
  {
   "cell_type": "code",
   "execution_count": 39,
   "metadata": {},
   "outputs": [
    {
     "data": {
      "text/plain": [
       "5682"
      ]
     },
     "execution_count": 39,
     "metadata": {},
     "output_type": "execute_result"
    }
   ],
   "source": [
    "def less(first, second):\n",
    "    if isinstance(first, int) and isinstance(second, int):\n",
    "        return second - first\n",
    "    if isinstance(first, list) and isinstance(second, list):\n",
    "        for i in range(min(len(first), len(second))):\n",
    "            res = less(first[i], second[i])\n",
    "            if res:\n",
    "                return res\n",
    "        return len(second) - len(first)\n",
    "    if isinstance(first, int):\n",
    "        return less([first], second)\n",
    "    else:\n",
    "        return less(first, [second])\n",
    "        \n",
    "index_sum = 0\n",
    "for i in range(len(pairs)):\n",
    "    if less(pairs[i][0], pairs[i][1]) > 0:\n",
    "        index_sum += i + 1\n",
    "\n",
    "index_sum"
   ]
  },
  {
   "attachments": {},
   "cell_type": "markdown",
   "metadata": {},
   "source": [
    "### Part 2"
   ]
  },
  {
   "cell_type": "code",
   "execution_count": 40,
   "metadata": {},
   "outputs": [
    {
     "data": {
      "text/plain": [
       "20304"
      ]
     },
     "execution_count": 40,
     "metadata": {},
     "output_type": "execute_result"
    }
   ],
   "source": [
    "all_packets = []\n",
    "\n",
    "for pair in pairs:\n",
    "    all_packets.append(pair[0])\n",
    "    all_packets.append(pair[1])\n",
    "\n",
    "count_first = 1\n",
    "count_second = 1\n",
    "\n",
    "for packet in all_packets:\n",
    "    if less(packet, [[2]]) > 0:\n",
    "        count_first += 1\n",
    "\n",
    "all_packets.append([[2]])\n",
    "\n",
    "for packet in all_packets:\n",
    "    if less(packet, [[6]]) > 0:\n",
    "        count_second += 1\n",
    "\n",
    "count_first * count_second"
   ]
  },
  {
   "attachments": {},
   "cell_type": "markdown",
   "metadata": {},
   "source": [
    "## Day 14"
   ]
  },
  {
   "cell_type": "code",
   "execution_count": 41,
   "metadata": {},
   "outputs": [],
   "source": [
    "data = get_data(day=14)\n",
    "lines = data.splitlines()\n",
    "points = [line.split(\" -> \") for line in lines]\n",
    "paths = [[point.split(\",\") for point in segment] for segment in points]\n",
    "paths = [[(int(x), int(y)) for [x, y] in path] for path in paths]\n",
    "\n",
    "map = {}\n",
    "\n",
    "for path in paths:\n",
    "    for ((x1, y1), (x2, y2)) in windowed(path, 2):\n",
    "        if x1 == x2:\n",
    "            if y1 <= y2:\n",
    "                for i in range(y1, y2 + 1):\n",
    "                    map[x1, i] = 0\n",
    "            else:\n",
    "                for i in range(y2, y1 + 1):\n",
    "                    map[x1, i] = 0\n",
    "        elif y1 == y2:\n",
    "            if x1 <= x2:\n",
    "                for i in range(x1, x2 + 1):\n",
    "                    map[i, y1] = 0\n",
    "            else:\n",
    "                for i in range(x2, x1 + 1):\n",
    "                    map[i, y2] = 0\n",
    "\n",
    "max_y = max([max([point[1] for point in path]) for path in paths])\n"
   ]
  },
  {
   "attachments": {},
   "cell_type": "markdown",
   "metadata": {},
   "source": [
    "### Part 1"
   ]
  },
  {
   "cell_type": "code",
   "execution_count": 42,
   "metadata": {},
   "outputs": [
    {
     "data": {
      "text/plain": [
       "913"
      ]
     },
     "execution_count": 42,
     "metadata": {},
     "output_type": "execute_result"
    }
   ],
   "source": [
    "\n",
    "def count_sand(map):\n",
    "    count = 0\n",
    "    while True:\n",
    "        x, y = 500, 0\n",
    "\n",
    "        while True:\n",
    "            if (x, y + 1) not in map:\n",
    "                y += 1\n",
    "            elif (x - 1, y + 1) not in map:\n",
    "                x -= 1\n",
    "                y += 1\n",
    "            elif (x + 1, y + 1) not in map:\n",
    "                x += 1\n",
    "                y += 1\n",
    "            else:\n",
    "                map[x, y] = 1\n",
    "                count += 1\n",
    "                break\n",
    "            \n",
    "            if y > max_y:\n",
    "                return count\n",
    "\n",
    "count_sand(copy.deepcopy(map))"
   ]
  },
  {
   "attachments": {},
   "cell_type": "markdown",
   "metadata": {},
   "source": [
    "### Part 2"
   ]
  },
  {
   "cell_type": "code",
   "execution_count": 43,
   "metadata": {},
   "outputs": [
    {
     "data": {
      "text/plain": [
       "30762"
      ]
     },
     "execution_count": 43,
     "metadata": {},
     "output_type": "execute_result"
    }
   ],
   "source": [
    "\n",
    "floor = max_y + 2\n",
    "\n",
    "def count_sand_again(map):\n",
    "    count = 0\n",
    "    while True:\n",
    "        x, y = 500, 0\n",
    "\n",
    "        while True:\n",
    "            if y + 1 == floor:\n",
    "                map[x, y] = 1\n",
    "                count += 1\n",
    "                break\n",
    "            elif (x, y + 1) not in map:\n",
    "                y += 1\n",
    "            elif (x - 1, y + 1) not in map:\n",
    "                x -= 1\n",
    "                y += 1\n",
    "            elif (x + 1, y + 1) not in map:\n",
    "                x += 1\n",
    "                y += 1\n",
    "            else:\n",
    "                map[x, y] = 1\n",
    "                count += 1\n",
    "\n",
    "                if x == 500 and y == 0:\n",
    "                    return count\n",
    "\n",
    "                break\n",
    "\n",
    "\n",
    "count_sand_again(copy.deepcopy(map))"
   ]
  },
  {
   "attachments": {},
   "cell_type": "markdown",
   "metadata": {},
   "source": [
    "## Day 15"
   ]
  },
  {
   "cell_type": "code",
   "execution_count": 51,
   "metadata": {},
   "outputs": [],
   "source": [
    "data = [ints(line) for line in get_data(day=15).splitlines()]"
   ]
  },
  {
   "attachments": {},
   "cell_type": "markdown",
   "metadata": {},
   "source": [
    "### Part 1"
   ]
  },
  {
   "cell_type": "code",
   "execution_count": 88,
   "metadata": {},
   "outputs": [
    {
     "data": {
      "text/plain": [
       "5176944"
      ]
     },
     "execution_count": 88,
     "metadata": {},
     "output_type": "execute_result"
    }
   ],
   "source": [
    "# Each sensor creates a circle, which intersects with a given row/column 0, 1, or 2 times\n",
    "# This means we have a set of ranges which we must find the union of\n",
    "# Keep a list of ordered disjoint ranges, and add each new range to the list, merging if necessary\n",
    "\n",
    "from bisect import bisect_left, bisect_right\n",
    "\n",
    "\n",
    "def intersect(origin, radius, y):\n",
    "    # if abs(origin.y - y) > radius: no intersections\n",
    "    # if abs(origin.y - y) == radius: one intersection at (origin.x, y)\n",
    "    # else intersects over range [origin.x - diff, origin.x + diff] where diff = radius - abs(origin.y - y)\n",
    "    # note: 2 and 3 can be combined in practice\n",
    "    diff = radius - abs(origin[1] - y)\n",
    "    if diff < 0:\n",
    "        return (0, 0) # empty range\n",
    "    else:\n",
    "        return (origin[0] - diff, origin[0] + diff + 1)\n",
    "\n",
    "# Set of disjoint ranges\n",
    "class RangeSet:\n",
    "    def __init__(self):\n",
    "        # Ranges are disjoint and ordered by start and end index\n",
    "        # even indexes represent start of range, odd index represents the end\n",
    "        # so, [1, 3, 4, 5] represents two ranges, [1, 3) and [4, 5)\n",
    "        self.ranges = []\n",
    "    \n",
    "    def add(self, start, end):\n",
    "        # first, binary search for the start and end index\n",
    "        # if either index is even, then it is not covered by the current set\n",
    "        # replace indices between start and end with the new range\n",
    "        if start == end:\n",
    "            return # ignore empty sets\n",
    "\n",
    "        start_index = bisect_left(self.ranges, start)\n",
    "        end_index = bisect_right(self.ranges, end)\n",
    "\n",
    "        new_range = []\n",
    "        if start_index % 2 == 0:\n",
    "            new_range.append(start)\n",
    "        if end_index % 2 == 0:\n",
    "            new_range.append(end)\n",
    "        \n",
    "        self.ranges[start_index:end_index] = new_range\n",
    "    \n",
    "    def rm(self, start, end):\n",
    "        # same thing for remove, but for odd indexes\n",
    "        if start == end:\n",
    "            return # ignore empty sets\n",
    "\n",
    "        start_index = bisect_left(self.ranges, start)\n",
    "        end_index = bisect_right(self.ranges, end)\n",
    "\n",
    "        new_range = []\n",
    "        if start_index % 2 == 1:\n",
    "            new_range.append(start)\n",
    "        if end_index % 2 == 1:\n",
    "            new_range.append(end)\n",
    "        \n",
    "        self.ranges[start_index:end_index] = new_range\n",
    "\n",
    "    def covered(self):\n",
    "        return sum(b - a for a, b in chunked(self.ranges, 2))\n",
    "\n",
    "def dist(p1, p2):\n",
    "    return abs(p2[0] - p1[0]) + abs(p2[1] - p1[1])\n",
    "\n",
    "def find_covered(data, row):\n",
    "    rset = RangeSet()\n",
    "    beacons = []\n",
    "    for sx, sy, bx, by in data:\n",
    "        origin = (sx, sy)\n",
    "        radius = dist(origin, (bx, by))\n",
    "        rx, ry = intersect(origin, radius, row)\n",
    "        rset.add(rx, ry)\n",
    "\n",
    "        if by == row: # Handle case where beacon is on desired row\n",
    "            beacons.append(bx)\n",
    "\n",
    "    for bx in beacons:\n",
    "        rset.rm(bx, bx + 1)\n",
    "\n",
    "    return rset.covered()\n",
    "\n",
    "find_covered(data, 2000000)"
   ]
  },
  {
   "attachments": {},
   "cell_type": "markdown",
   "metadata": {},
   "source": [
    "### Part 2"
   ]
  },
  {
   "cell_type": "code",
   "execution_count": 95,
   "metadata": {},
   "outputs": [
    {
     "name": "stdout",
     "output_type": "stream",
     "text": [
      "2933732 [3337614, 3337615]\n"
     ]
    },
    {
     "data": {
      "text/plain": [
       "13350458933732"
      ]
     },
     "execution_count": 95,
     "metadata": {},
     "output_type": "execute_result"
    }
   ],
   "source": [
    "def find_missing():\n",
    "    for i in range(4000000):\n",
    "    # for i in range(400000):\n",
    "        rset = RangeSet()\n",
    "        rset.add(0, 4000000)\n",
    "        for sx, sy, bx, by in data:\n",
    "            origin = (sx, sy)\n",
    "            radius = dist(origin, (bx, by))\n",
    "            rx, ry = intersect(origin, radius, i)\n",
    "            rset.rm(rx, ry)\n",
    "\n",
    "        if rset.covered():\n",
    "            print(i, rset.ranges)\n",
    "            return rset.ranges[0] * 4000000 + i\n",
    "            \n",
    "find_missing()"
   ]
  },
  {
   "cell_type": "code",
   "execution_count": 109,
   "metadata": {},
   "outputs": [],
   "source": [
    "data = get_data(day=16)\n",
    "\n",
    "@dataclass\n",
    "class Valve:\n",
    "    name: str\n",
    "    rate: int\n",
    "    leads_to: list[str]\n",
    "\n",
    "valves = {}\n",
    "\n",
    "for line in data.splitlines():\n",
    "    name = line.split(\" \")[1]\n",
    "    rate = ints(line)[0]\n",
    "    leads_to = re.split(r\"lead[s]? to valve[s]? \", line)\n",
    "    leads_to = leads_to[1].split(\", \")\n",
    "    valves[name] = Valve(name, rate, leads_to)\n"
   ]
  },
  {
   "cell_type": "code",
   "execution_count": 125,
   "metadata": {},
   "outputs": [],
   "source": [
    "def cost_from(start):\n",
    "    costs = []\n",
    "    visited = {start}\n",
    "    heap = [(0, start)]\n",
    "\n",
    "    while heap:\n",
    "        (steps, next) = heapq.heappop(heap)\n",
    "\n",
    "        if valves[next].rate > 0:\n",
    "            costs.append((steps, next))\n",
    "\n",
    "        for neighbor in valves[next].leads_to:\n",
    "            if not neighbor in visited:\n",
    "                visited.add(neighbor)\n",
    "                heapq.heappush(heap, (steps + 1, neighbor))\n",
    "    \n",
    "    return costs\n",
    "\n",
    "def compressed_graph():\n",
    "    # find cost from each non-zero node to each other non-zero node\n",
    "    # search all paths between them in non-zero time (not revisiting nodes)\n",
    "    root_costs = cost_from(\"AA\")\n",
    "    graph = {}\n",
    "    for cost, valve in root_costs:\n",
    "        graph[valve] = cost_from(valve)\n",
    "    \n",
    "    graph[\"AA\"] = root_costs\n",
    "    return graph"
   ]
  },
  {
   "cell_type": "code",
   "execution_count": 130,
   "metadata": {},
   "outputs": [
    {
     "data": {
      "text/plain": [
       "1789"
      ]
     },
     "execution_count": 130,
     "metadata": {},
     "output_type": "execute_result"
    }
   ],
   "source": [
    "def max_pressure(graph, valve: str, step: int, visited):\n",
    "    if step >= 30:\n",
    "        return 0\n",
    "\n",
    "    max_p = 0\n",
    "    \n",
    "    rate = valves[valve].rate\n",
    "    if rate > 0:\n",
    "        gained = (30 - step - 1) * rate\n",
    "        for cost, next in graph[valve]:\n",
    "            if not next in visited:\n",
    "                visited.add(next)\n",
    "                max_p = max(max_p, gained + max_pressure(graph, next, step + 1 + cost, visited))\n",
    "                visited.remove(next)\n",
    "        return max_p\n",
    "    \n",
    "    for cost, next in graph[valve]:\n",
    "        if not next in visited:\n",
    "            visited.add(next)\n",
    "            max_p = max(max_p, max_pressure(graph, next, step + cost, visited))\n",
    "            visited.remove(next)\n",
    "    \n",
    "    return max_p\n",
    "\n",
    "\n",
    "cgraph = compressed_graph()\n",
    "max_pressure(cgraph, \"AA\", 0, set())"
   ]
  },
  {
   "cell_type": "code",
   "execution_count": 134,
   "metadata": {},
   "outputs": [
    {
     "ename": "KeyboardInterrupt",
     "evalue": "",
     "output_type": "error",
     "traceback": [
      "\u001b[0;31m---------------------------------------------------------------------------\u001b[0m",
      "\u001b[0;31mKeyboardInterrupt\u001b[0m                         Traceback (most recent call last)",
      "Cell \u001b[0;32mIn[134], line 38\u001b[0m\n\u001b[1;32m     34\u001b[0m                     visited\u001b[39m.\u001b[39mremove(\u001b[39mnext\u001b[39m)\n\u001b[1;32m     36\u001b[0m     \u001b[39mreturn\u001b[39;00m \u001b[39mmax\u001b[39m(max_el, max_p)\n\u001b[0;32m---> 38\u001b[0m max_pressure_el(cgraph, \u001b[39m\"\u001b[39;49m\u001b[39mAA\u001b[39;49m\u001b[39m\"\u001b[39;49m, \u001b[39m\"\u001b[39;49m\u001b[39mAA\u001b[39;49m\u001b[39m\"\u001b[39;49m, \u001b[39m0\u001b[39;49m, \u001b[39m0\u001b[39;49m, \u001b[39mset\u001b[39;49m())\n",
      "Cell \u001b[0;32mIn[134], line 16\u001b[0m, in \u001b[0;36mmax_pressure_el\u001b[0;34m(graph, valve, valve_el, step, step_el, visited)\u001b[0m\n\u001b[1;32m     14\u001b[0m             \u001b[39mif\u001b[39;00m \u001b[39mnot\u001b[39;00m \u001b[39mnext\u001b[39m \u001b[39min\u001b[39;00m visited:\n\u001b[1;32m     15\u001b[0m                 visited\u001b[39m.\u001b[39madd(\u001b[39mnext\u001b[39m)\n\u001b[0;32m---> 16\u001b[0m                 max_p \u001b[39m=\u001b[39m \u001b[39mmax\u001b[39m(max_p, max_pressure_el(graph, \u001b[39mnext\u001b[39;49m, valve_el, step \u001b[39m+\u001b[39;49m cost, step_el, visited))\n\u001b[1;32m     17\u001b[0m                 visited\u001b[39m.\u001b[39mremove(\u001b[39mnext\u001b[39m)\n\u001b[1;32m     19\u001b[0m max_el \u001b[39m=\u001b[39m \u001b[39m0\u001b[39m\n",
      "Cell \u001b[0;32mIn[134], line 10\u001b[0m, in \u001b[0;36mmax_pressure_el\u001b[0;34m(graph, valve, valve_el, step, step_el, visited)\u001b[0m\n\u001b[1;32m      8\u001b[0m         \u001b[39mif\u001b[39;00m \u001b[39mnot\u001b[39;00m \u001b[39mnext\u001b[39m \u001b[39min\u001b[39;00m visited:\n\u001b[1;32m      9\u001b[0m             visited\u001b[39m.\u001b[39madd(\u001b[39mnext\u001b[39m)\n\u001b[0;32m---> 10\u001b[0m             max_p \u001b[39m=\u001b[39m \u001b[39mmax\u001b[39m(max_p, gained \u001b[39m+\u001b[39m max_pressure_el(graph, \u001b[39mnext\u001b[39;49m, valve_el, step \u001b[39m+\u001b[39;49m \u001b[39m1\u001b[39;49m \u001b[39m+\u001b[39;49m cost, step_el, visited))\n\u001b[1;32m     11\u001b[0m             visited\u001b[39m.\u001b[39mremove(\u001b[39mnext\u001b[39m)\n\u001b[1;32m     12\u001b[0m \u001b[39melse\u001b[39;00m:\n",
      "Cell \u001b[0;32mIn[134], line 10\u001b[0m, in \u001b[0;36mmax_pressure_el\u001b[0;34m(graph, valve, valve_el, step, step_el, visited)\u001b[0m\n\u001b[1;32m      8\u001b[0m         \u001b[39mif\u001b[39;00m \u001b[39mnot\u001b[39;00m \u001b[39mnext\u001b[39m \u001b[39min\u001b[39;00m visited:\n\u001b[1;32m      9\u001b[0m             visited\u001b[39m.\u001b[39madd(\u001b[39mnext\u001b[39m)\n\u001b[0;32m---> 10\u001b[0m             max_p \u001b[39m=\u001b[39m \u001b[39mmax\u001b[39m(max_p, gained \u001b[39m+\u001b[39m max_pressure_el(graph, \u001b[39mnext\u001b[39;49m, valve_el, step \u001b[39m+\u001b[39;49m \u001b[39m1\u001b[39;49m \u001b[39m+\u001b[39;49m cost, step_el, visited))\n\u001b[1;32m     11\u001b[0m             visited\u001b[39m.\u001b[39mremove(\u001b[39mnext\u001b[39m)\n\u001b[1;32m     12\u001b[0m \u001b[39melse\u001b[39;00m:\n",
      "    \u001b[0;31m[... skipping similar frames: max_pressure_el at line 10 (1 times)]\u001b[0m\n",
      "Cell \u001b[0;32mIn[134], line 10\u001b[0m, in \u001b[0;36mmax_pressure_el\u001b[0;34m(graph, valve, valve_el, step, step_el, visited)\u001b[0m\n\u001b[1;32m      8\u001b[0m         \u001b[39mif\u001b[39;00m \u001b[39mnot\u001b[39;00m \u001b[39mnext\u001b[39m \u001b[39min\u001b[39;00m visited:\n\u001b[1;32m      9\u001b[0m             visited\u001b[39m.\u001b[39madd(\u001b[39mnext\u001b[39m)\n\u001b[0;32m---> 10\u001b[0m             max_p \u001b[39m=\u001b[39m \u001b[39mmax\u001b[39m(max_p, gained \u001b[39m+\u001b[39m max_pressure_el(graph, \u001b[39mnext\u001b[39;49m, valve_el, step \u001b[39m+\u001b[39;49m \u001b[39m1\u001b[39;49m \u001b[39m+\u001b[39;49m cost, step_el, visited))\n\u001b[1;32m     11\u001b[0m             visited\u001b[39m.\u001b[39mremove(\u001b[39mnext\u001b[39m)\n\u001b[1;32m     12\u001b[0m \u001b[39melse\u001b[39;00m:\n",
      "Cell \u001b[0;32mIn[134], line 33\u001b[0m, in \u001b[0;36mmax_pressure_el\u001b[0;34m(graph, valve, valve_el, step, step_el, visited)\u001b[0m\n\u001b[1;32m     31\u001b[0m             \u001b[39mif\u001b[39;00m \u001b[39mnot\u001b[39;00m \u001b[39mnext\u001b[39m \u001b[39min\u001b[39;00m visited:\n\u001b[1;32m     32\u001b[0m                 visited\u001b[39m.\u001b[39madd(\u001b[39mnext\u001b[39m)\n\u001b[0;32m---> 33\u001b[0m                 max_el \u001b[39m=\u001b[39m \u001b[39mmax\u001b[39m(max_el, max_pressure_el(graph, valve, \u001b[39mnext\u001b[39;49m, step, step_el \u001b[39m+\u001b[39;49m cost, visited))\n\u001b[1;32m     34\u001b[0m                 visited\u001b[39m.\u001b[39mremove(\u001b[39mnext\u001b[39m)\n\u001b[1;32m     36\u001b[0m \u001b[39mreturn\u001b[39;00m \u001b[39mmax\u001b[39m(max_el, max_p)\n",
      "Cell \u001b[0;32mIn[134], line 27\u001b[0m, in \u001b[0;36mmax_pressure_el\u001b[0;34m(graph, valve, valve_el, step, step_el, visited)\u001b[0m\n\u001b[1;32m     25\u001b[0m         \u001b[39mif\u001b[39;00m \u001b[39mnot\u001b[39;00m \u001b[39mnext\u001b[39m \u001b[39min\u001b[39;00m visited:\n\u001b[1;32m     26\u001b[0m             visited\u001b[39m.\u001b[39madd(\u001b[39mnext\u001b[39m)\n\u001b[0;32m---> 27\u001b[0m             max_el \u001b[39m=\u001b[39m \u001b[39mmax\u001b[39m(max_el, gained \u001b[39m+\u001b[39m max_pressure_el(graph, valve, \u001b[39mnext\u001b[39;49m, step, step_el \u001b[39m+\u001b[39;49m \u001b[39m1\u001b[39;49m \u001b[39m+\u001b[39;49m cost, visited))\n\u001b[1;32m     28\u001b[0m             visited\u001b[39m.\u001b[39mremove(\u001b[39mnext\u001b[39m)\n\u001b[1;32m     29\u001b[0m \u001b[39melse\u001b[39;00m:\n",
      "Cell \u001b[0;32mIn[134], line 10\u001b[0m, in \u001b[0;36mmax_pressure_el\u001b[0;34m(graph, valve, valve_el, step, step_el, visited)\u001b[0m\n\u001b[1;32m      8\u001b[0m         \u001b[39mif\u001b[39;00m \u001b[39mnot\u001b[39;00m \u001b[39mnext\u001b[39m \u001b[39min\u001b[39;00m visited:\n\u001b[1;32m      9\u001b[0m             visited\u001b[39m.\u001b[39madd(\u001b[39mnext\u001b[39m)\n\u001b[0;32m---> 10\u001b[0m             max_p \u001b[39m=\u001b[39m \u001b[39mmax\u001b[39m(max_p, gained \u001b[39m+\u001b[39m max_pressure_el(graph, \u001b[39mnext\u001b[39;49m, valve_el, step \u001b[39m+\u001b[39;49m \u001b[39m1\u001b[39;49m \u001b[39m+\u001b[39;49m cost, step_el, visited))\n\u001b[1;32m     11\u001b[0m             visited\u001b[39m.\u001b[39mremove(\u001b[39mnext\u001b[39m)\n\u001b[1;32m     12\u001b[0m \u001b[39melse\u001b[39;00m:\n",
      "Cell \u001b[0;32mIn[134], line 27\u001b[0m, in \u001b[0;36mmax_pressure_el\u001b[0;34m(graph, valve, valve_el, step, step_el, visited)\u001b[0m\n\u001b[1;32m     25\u001b[0m         \u001b[39mif\u001b[39;00m \u001b[39mnot\u001b[39;00m \u001b[39mnext\u001b[39m \u001b[39min\u001b[39;00m visited:\n\u001b[1;32m     26\u001b[0m             visited\u001b[39m.\u001b[39madd(\u001b[39mnext\u001b[39m)\n\u001b[0;32m---> 27\u001b[0m             max_el \u001b[39m=\u001b[39m \u001b[39mmax\u001b[39m(max_el, gained \u001b[39m+\u001b[39m max_pressure_el(graph, valve, \u001b[39mnext\u001b[39;49m, step, step_el \u001b[39m+\u001b[39;49m \u001b[39m1\u001b[39;49m \u001b[39m+\u001b[39;49m cost, visited))\n\u001b[1;32m     28\u001b[0m             visited\u001b[39m.\u001b[39mremove(\u001b[39mnext\u001b[39m)\n\u001b[1;32m     29\u001b[0m \u001b[39melse\u001b[39;00m:\n",
      "    \u001b[0;31m[... skipping similar frames: max_pressure_el at line 27 (2 times)]\u001b[0m\n",
      "Cell \u001b[0;32mIn[134], line 10\u001b[0m, in \u001b[0;36mmax_pressure_el\u001b[0;34m(graph, valve, valve_el, step, step_el, visited)\u001b[0m\n\u001b[1;32m      8\u001b[0m         \u001b[39mif\u001b[39;00m \u001b[39mnot\u001b[39;00m \u001b[39mnext\u001b[39m \u001b[39min\u001b[39;00m visited:\n\u001b[1;32m      9\u001b[0m             visited\u001b[39m.\u001b[39madd(\u001b[39mnext\u001b[39m)\n\u001b[0;32m---> 10\u001b[0m             max_p \u001b[39m=\u001b[39m \u001b[39mmax\u001b[39m(max_p, gained \u001b[39m+\u001b[39m max_pressure_el(graph, \u001b[39mnext\u001b[39;49m, valve_el, step \u001b[39m+\u001b[39;49m \u001b[39m1\u001b[39;49m \u001b[39m+\u001b[39;49m cost, step_el, visited))\n\u001b[1;32m     11\u001b[0m             visited\u001b[39m.\u001b[39mremove(\u001b[39mnext\u001b[39m)\n\u001b[1;32m     12\u001b[0m \u001b[39melse\u001b[39;00m:\n",
      "Cell \u001b[0;32mIn[134], line 27\u001b[0m, in \u001b[0;36mmax_pressure_el\u001b[0;34m(graph, valve, valve_el, step, step_el, visited)\u001b[0m\n\u001b[1;32m     25\u001b[0m         \u001b[39mif\u001b[39;00m \u001b[39mnot\u001b[39;00m \u001b[39mnext\u001b[39m \u001b[39min\u001b[39;00m visited:\n\u001b[1;32m     26\u001b[0m             visited\u001b[39m.\u001b[39madd(\u001b[39mnext\u001b[39m)\n\u001b[0;32m---> 27\u001b[0m             max_el \u001b[39m=\u001b[39m \u001b[39mmax\u001b[39m(max_el, gained \u001b[39m+\u001b[39m max_pressure_el(graph, valve, \u001b[39mnext\u001b[39;49m, step, step_el \u001b[39m+\u001b[39;49m \u001b[39m1\u001b[39;49m \u001b[39m+\u001b[39;49m cost, visited))\n\u001b[1;32m     28\u001b[0m             visited\u001b[39m.\u001b[39mremove(\u001b[39mnext\u001b[39m)\n\u001b[1;32m     29\u001b[0m \u001b[39melse\u001b[39;00m:\n",
      "Cell \u001b[0;32mIn[134], line 1\u001b[0m, in \u001b[0;36mmax_pressure_el\u001b[0;34m(graph, valve, valve_el, step, step_el, visited)\u001b[0m\n\u001b[0;32m----> 1\u001b[0m \u001b[39mdef\u001b[39;00m \u001b[39mmax_pressure_el\u001b[39m(graph, valve: \u001b[39mstr\u001b[39m, valve_el: \u001b[39mstr\u001b[39m, step: \u001b[39mint\u001b[39m, step_el, visited):\n\u001b[1;32m      2\u001b[0m     max_p \u001b[39m=\u001b[39m \u001b[39m0\u001b[39m\n\u001b[1;32m      3\u001b[0m     \u001b[39mif\u001b[39;00m step \u001b[39m<\u001b[39m \u001b[39m26\u001b[39m:\n",
      "\u001b[0;31mKeyboardInterrupt\u001b[0m: "
     ]
    }
   ],
   "source": [
    "\n",
    "def max_pressure_el(graph, valve: str, valve_el: str, step: int, step_el, visited):\n",
    "    max_p = 0\n",
    "    if step < 26:\n",
    "        rate = valves[valve].rate\n",
    "        if rate > 0:\n",
    "            gained = (26 - step - 1) * rate\n",
    "            for cost, next in graph[valve]:\n",
    "                if not next in visited:\n",
    "                    visited.add(next)\n",
    "                    max_p = max(max_p, gained + max_pressure_el(graph, next, valve_el, step + 1 + cost, step_el, visited))\n",
    "                    visited.remove(next)\n",
    "        else:\n",
    "            for cost, next in graph[valve]:\n",
    "                if not next in visited:\n",
    "                    visited.add(next)\n",
    "                    max_p = max(max_p, max_pressure_el(graph, next, valve_el, step + cost, step_el, visited))\n",
    "                    visited.remove(next)\n",
    "\n",
    "    max_el = 0\n",
    "    if step_el < 26:\n",
    "        rate = valves[valve_el].rate\n",
    "        if rate > 0:\n",
    "            gained = (26 - step_el - 1) * rate\n",
    "            for cost, next in graph[valve_el]:\n",
    "                if not next in visited:\n",
    "                    visited.add(next)\n",
    "                    max_el = max(max_el, gained + max_pressure_el(graph, valve, next, step, step_el + 1 + cost, visited))\n",
    "                    visited.remove(next)\n",
    "        else:\n",
    "            for cost, next in graph[valve_el]:\n",
    "                if not next in visited:\n",
    "                    visited.add(next)\n",
    "                    max_el = max(max_el, max_pressure_el(graph, valve, next, step, step_el + cost, visited))\n",
    "                    visited.remove(next)\n",
    "    \n",
    "    return max(max_el, max_p)\n",
    "\n",
    "# max_pressure_el(cgraph, \"AA\", \"AA\", 0, 0, set())"
   ]
  },
  {
   "attachments": {},
   "cell_type": "markdown",
   "metadata": {},
   "source": [
    "Options:\n",
    "- both are on the same valve and valve rate is non-zero\n",
    "    - the one there first opens it\n",
    "    - if its a tie, the human opens it\n",
    "- else\n",
    "    - for each:\n",
    "        - open valve if non-zero rate\n",
    "        - collect list of neighbors\n",
    "- for any shared neighbors, give to one with lower steps (or human if tie)\n",
    "- try each combination"
   ]
  },
  {
   "cell_type": "code",
   "execution_count": 137,
   "metadata": {},
   "outputs": [
    {
     "ename": "KeyboardInterrupt",
     "evalue": "",
     "output_type": "error",
     "traceback": [
      "\u001b[0;31m---------------------------------------------------------------------------\u001b[0m",
      "\u001b[0;31mKeyboardInterrupt\u001b[0m                         Traceback (most recent call last)",
      "Cell \u001b[0;32mIn[137], line 66\u001b[0m\n\u001b[1;32m     60\u001b[0m             visited\u001b[39m.\u001b[39mremove(\u001b[39mnext\u001b[39m)\n\u001b[1;32m     62\u001b[0m     \u001b[39mreturn\u001b[39;00m max_p\n\u001b[0;32m---> 66\u001b[0m max_pressure_3(cgraph, \u001b[39m\"\u001b[39;49m\u001b[39mAA\u001b[39;49m\u001b[39m\"\u001b[39;49m, \u001b[39m0\u001b[39;49m, \u001b[39m\"\u001b[39;49m\u001b[39mAA\u001b[39;49m\u001b[39m\"\u001b[39;49m, \u001b[39m0\u001b[39;49m, \u001b[39mset\u001b[39;49m())\n",
      "Cell \u001b[0;32mIn[137], line 59\u001b[0m, in \u001b[0;36mmax_pressure_3\u001b[0;34m(graph, v1, s1, v2, s2, visited)\u001b[0m\n\u001b[1;32m     57\u001b[0m     \u001b[39mif\u001b[39;00m \u001b[39mnot\u001b[39;00m \u001b[39mnext\u001b[39m \u001b[39min\u001b[39;00m visited:\n\u001b[1;32m     58\u001b[0m         visited\u001b[39m.\u001b[39madd(\u001b[39mnext\u001b[39m)\n\u001b[0;32m---> 59\u001b[0m         max_p \u001b[39m=\u001b[39m \u001b[39mmax\u001b[39m(max_p, max_pressure_3(graph, \u001b[39mnext\u001b[39;49m, s1 \u001b[39m+\u001b[39;49m cost, v2, s2, visited))\n\u001b[1;32m     60\u001b[0m         visited\u001b[39m.\u001b[39mremove(\u001b[39mnext\u001b[39m)\n\u001b[1;32m     62\u001b[0m \u001b[39mreturn\u001b[39;00m max_p\n",
      "Cell \u001b[0;32mIn[137], line 39\u001b[0m, in \u001b[0;36mmax_pressure_3\u001b[0;34m(graph, v1, s1, v2, s2, visited)\u001b[0m\n\u001b[1;32m     37\u001b[0m \u001b[39mdef\u001b[39;00m \u001b[39mmax_pressure_3\u001b[39m(graph, v1: \u001b[39mstr\u001b[39m, s1: \u001b[39mint\u001b[39m, v2: \u001b[39mstr\u001b[39m, s2: \u001b[39mint\u001b[39m, visited):\n\u001b[1;32m     38\u001b[0m     \u001b[39mif\u001b[39;00m s1 \u001b[39m>\u001b[39m s2:\n\u001b[0;32m---> 39\u001b[0m         \u001b[39mreturn\u001b[39;00m max_pressure_3(graph, v2, s2, v1, s1, visited)\n\u001b[1;32m     41\u001b[0m     \u001b[39mif\u001b[39;00m s1 \u001b[39m>\u001b[39m\u001b[39m=\u001b[39m \u001b[39m26\u001b[39m:\n\u001b[1;32m     42\u001b[0m         \u001b[39mreturn\u001b[39;00m \u001b[39m0\u001b[39m\n",
      "Cell \u001b[0;32mIn[137], line 59\u001b[0m, in \u001b[0;36mmax_pressure_3\u001b[0;34m(graph, v1, s1, v2, s2, visited)\u001b[0m\n\u001b[1;32m     57\u001b[0m     \u001b[39mif\u001b[39;00m \u001b[39mnot\u001b[39;00m \u001b[39mnext\u001b[39m \u001b[39min\u001b[39;00m visited:\n\u001b[1;32m     58\u001b[0m         visited\u001b[39m.\u001b[39madd(\u001b[39mnext\u001b[39m)\n\u001b[0;32m---> 59\u001b[0m         max_p \u001b[39m=\u001b[39m \u001b[39mmax\u001b[39m(max_p, max_pressure_3(graph, \u001b[39mnext\u001b[39;49m, s1 \u001b[39m+\u001b[39;49m cost, v2, s2, visited))\n\u001b[1;32m     60\u001b[0m         visited\u001b[39m.\u001b[39mremove(\u001b[39mnext\u001b[39m)\n\u001b[1;32m     62\u001b[0m \u001b[39mreturn\u001b[39;00m max_p\n",
      "Cell \u001b[0;32mIn[137], line 39\u001b[0m, in \u001b[0;36mmax_pressure_3\u001b[0;34m(graph, v1, s1, v2, s2, visited)\u001b[0m\n\u001b[1;32m     37\u001b[0m \u001b[39mdef\u001b[39;00m \u001b[39mmax_pressure_3\u001b[39m(graph, v1: \u001b[39mstr\u001b[39m, s1: \u001b[39mint\u001b[39m, v2: \u001b[39mstr\u001b[39m, s2: \u001b[39mint\u001b[39m, visited):\n\u001b[1;32m     38\u001b[0m     \u001b[39mif\u001b[39;00m s1 \u001b[39m>\u001b[39m s2:\n\u001b[0;32m---> 39\u001b[0m         \u001b[39mreturn\u001b[39;00m max_pressure_3(graph, v2, s2, v1, s1, visited)\n\u001b[1;32m     41\u001b[0m     \u001b[39mif\u001b[39;00m s1 \u001b[39m>\u001b[39m\u001b[39m=\u001b[39m \u001b[39m26\u001b[39m:\n\u001b[1;32m     42\u001b[0m         \u001b[39mreturn\u001b[39;00m \u001b[39m0\u001b[39m\n",
      "Cell \u001b[0;32mIn[137], line 52\u001b[0m, in \u001b[0;36mmax_pressure_3\u001b[0;34m(graph, v1, s1, v2, s2, visited)\u001b[0m\n\u001b[1;32m     50\u001b[0m     \u001b[39mif\u001b[39;00m \u001b[39mnot\u001b[39;00m \u001b[39mnext\u001b[39m \u001b[39min\u001b[39;00m visited:\n\u001b[1;32m     51\u001b[0m         visited\u001b[39m.\u001b[39madd(\u001b[39mnext\u001b[39m)\n\u001b[0;32m---> 52\u001b[0m         max_p \u001b[39m=\u001b[39m \u001b[39mmax\u001b[39m(max_p, gained \u001b[39m+\u001b[39m max_pressure_3(graph, \u001b[39mnext\u001b[39;49m, s1 \u001b[39m+\u001b[39;49m \u001b[39m1\u001b[39;49m \u001b[39m+\u001b[39;49m cost, v2, s2, visited))\n\u001b[1;32m     53\u001b[0m         visited\u001b[39m.\u001b[39mremove(\u001b[39mnext\u001b[39m)\n\u001b[1;32m     54\u001b[0m \u001b[39mreturn\u001b[39;00m max_p\n",
      "Cell \u001b[0;32mIn[137], line 39\u001b[0m, in \u001b[0;36mmax_pressure_3\u001b[0;34m(graph, v1, s1, v2, s2, visited)\u001b[0m\n\u001b[1;32m     37\u001b[0m \u001b[39mdef\u001b[39;00m \u001b[39mmax_pressure_3\u001b[39m(graph, v1: \u001b[39mstr\u001b[39m, s1: \u001b[39mint\u001b[39m, v2: \u001b[39mstr\u001b[39m, s2: \u001b[39mint\u001b[39m, visited):\n\u001b[1;32m     38\u001b[0m     \u001b[39mif\u001b[39;00m s1 \u001b[39m>\u001b[39m s2:\n\u001b[0;32m---> 39\u001b[0m         \u001b[39mreturn\u001b[39;00m max_pressure_3(graph, v2, s2, v1, s1, visited)\n\u001b[1;32m     41\u001b[0m     \u001b[39mif\u001b[39;00m s1 \u001b[39m>\u001b[39m\u001b[39m=\u001b[39m \u001b[39m26\u001b[39m:\n\u001b[1;32m     42\u001b[0m         \u001b[39mreturn\u001b[39;00m \u001b[39m0\u001b[39m\n",
      "Cell \u001b[0;32mIn[137], line 52\u001b[0m, in \u001b[0;36mmax_pressure_3\u001b[0;34m(graph, v1, s1, v2, s2, visited)\u001b[0m\n\u001b[1;32m     50\u001b[0m     \u001b[39mif\u001b[39;00m \u001b[39mnot\u001b[39;00m \u001b[39mnext\u001b[39m \u001b[39min\u001b[39;00m visited:\n\u001b[1;32m     51\u001b[0m         visited\u001b[39m.\u001b[39madd(\u001b[39mnext\u001b[39m)\n\u001b[0;32m---> 52\u001b[0m         max_p \u001b[39m=\u001b[39m \u001b[39mmax\u001b[39m(max_p, gained \u001b[39m+\u001b[39m max_pressure_3(graph, \u001b[39mnext\u001b[39;49m, s1 \u001b[39m+\u001b[39;49m \u001b[39m1\u001b[39;49m \u001b[39m+\u001b[39;49m cost, v2, s2, visited))\n\u001b[1;32m     53\u001b[0m         visited\u001b[39m.\u001b[39mremove(\u001b[39mnext\u001b[39m)\n\u001b[1;32m     54\u001b[0m \u001b[39mreturn\u001b[39;00m max_p\n",
      "    \u001b[0;31m[... skipping similar frames: max_pressure_3 at line 52 (5 times), max_pressure_3 at line 39 (4 times)]\u001b[0m\n",
      "Cell \u001b[0;32mIn[137], line 39\u001b[0m, in \u001b[0;36mmax_pressure_3\u001b[0;34m(graph, v1, s1, v2, s2, visited)\u001b[0m\n\u001b[1;32m     37\u001b[0m \u001b[39mdef\u001b[39;00m \u001b[39mmax_pressure_3\u001b[39m(graph, v1: \u001b[39mstr\u001b[39m, s1: \u001b[39mint\u001b[39m, v2: \u001b[39mstr\u001b[39m, s2: \u001b[39mint\u001b[39m, visited):\n\u001b[1;32m     38\u001b[0m     \u001b[39mif\u001b[39;00m s1 \u001b[39m>\u001b[39m s2:\n\u001b[0;32m---> 39\u001b[0m         \u001b[39mreturn\u001b[39;00m max_pressure_3(graph, v2, s2, v1, s1, visited)\n\u001b[1;32m     41\u001b[0m     \u001b[39mif\u001b[39;00m s1 \u001b[39m>\u001b[39m\u001b[39m=\u001b[39m \u001b[39m26\u001b[39m:\n\u001b[1;32m     42\u001b[0m         \u001b[39mreturn\u001b[39;00m \u001b[39m0\u001b[39m\n",
      "Cell \u001b[0;32mIn[137], line 52\u001b[0m, in \u001b[0;36mmax_pressure_3\u001b[0;34m(graph, v1, s1, v2, s2, visited)\u001b[0m\n\u001b[1;32m     50\u001b[0m     \u001b[39mif\u001b[39;00m \u001b[39mnot\u001b[39;00m \u001b[39mnext\u001b[39m \u001b[39min\u001b[39;00m visited:\n\u001b[1;32m     51\u001b[0m         visited\u001b[39m.\u001b[39madd(\u001b[39mnext\u001b[39m)\n\u001b[0;32m---> 52\u001b[0m         max_p \u001b[39m=\u001b[39m \u001b[39mmax\u001b[39;49m(max_p, gained \u001b[39m+\u001b[39;49m max_pressure_3(graph, \u001b[39mnext\u001b[39;49m, s1 \u001b[39m+\u001b[39;49m \u001b[39m1\u001b[39;49m \u001b[39m+\u001b[39;49m cost, v2, s2, visited))\n\u001b[1;32m     53\u001b[0m         visited\u001b[39m.\u001b[39mremove(\u001b[39mnext\u001b[39m)\n\u001b[1;32m     54\u001b[0m \u001b[39mreturn\u001b[39;00m max_p\n",
      "\u001b[0;31mKeyboardInterrupt\u001b[0m: "
     ]
    }
   ],
   "source": [
    "# def max_pressure_2(graph, me_v: str, me_s: int, el_v: str, el_s: int, visited):\n",
    "#     max_p = 0\n",
    "\n",
    "#     if me_v == el_v:\n",
    "#         rate = valves[me_v].rate\n",
    "#         if rate > 0:\n",
    "#             if (me_s <= el_s):\n",
    "#                 me_s += 1\n",
    "#             else:\n",
    "#                 el_s += 1\n",
    "#             step = min(me_s, el_s)\n",
    "#             max_p += (26 - step) * rate\n",
    "#     else:\n",
    "#         rate = valves[me_v].rate\n",
    "#         if rate > 0:\n",
    "#             me_s += 1\n",
    "#             max_p += (26 - me_s) * rate\n",
    "#         rate = valves[el_v].rate\n",
    "#         if rate > 0:\n",
    "#             el_s += 1\n",
    "#             max_p += (26 - el_s) * rate\n",
    "    \n",
    "#     me_n = dict([(name, cost + me_s) for (cost, name) in graph[me_v]])\n",
    "#     el_n = dict([(name, cost + el_s) for (cost, name) in graph[el_v]])\n",
    "\n",
    "#     for key in me_n.keys().intersect(el_n.keys()):\n",
    "#         if me_n[key] <= el_n[key]:\n",
    "#             del el_n[key]\n",
    "#         else:\n",
    "#             del me_n[key]\n",
    "    \n",
    "#     for me_k, me_v in me_n.items():\n",
    "#         for el_k, el_v in el_n.items():\n",
    "#             return; # todo\n",
    "\n",
    "cache3 = {}\n",
    "\n",
    "def max_pressure_3(graph, v1: str, s1: int, v2: str, s2: int, visited):\n",
    "    key = (v1, s1, v2, s2, frozenset(visited))\n",
    "    if key in cache3:\n",
    "        return cache3[key]\n",
    "\n",
    "    if s1 > s2:\n",
    "        res = max_pressure_3(graph, v2, s2, v1, s1, visited)\n",
    "        cache3[key] = res\n",
    "        return res\n",
    "\n",
    "    if s1 >= 26:\n",
    "        return 0\n",
    "\n",
    "    max_p = 0\n",
    "    \n",
    "    rate = valves[v1].rate\n",
    "    if rate > 0:\n",
    "        gained = (26 - s1 - 1) * rate\n",
    "        for cost, next in graph[v1]:\n",
    "            if not next in visited:\n",
    "                visited.add(next)\n",
    "                max_p = max(max_p, gained + max_pressure_3(graph, next, s1 + 1 + cost, v2, s2, visited))\n",
    "                visited.remove(next)\n",
    "        return max_p\n",
    "    \n",
    "    for cost, next in graph[v1]:\n",
    "        if not next in visited:\n",
    "            visited.add(next)\n",
    "            max_p = max(max_p, max_pressure_3(graph, next, s1 + cost, v2, s2, visited))\n",
    "            visited.remove(next)\n",
    "    \n",
    "    return max_p\n",
    "    \n",
    "\n",
    "\n",
    "max_pressure_3(cgraph, \"AA\", 0, \"AA\", 0, set())\n"
   ]
  },
  {
   "cell_type": "code",
   "execution_count": 163,
   "metadata": {},
   "outputs": [
    {
     "data": {
      "text/plain": [
       "2496"
      ]
     },
     "execution_count": 163,
     "metadata": {},
     "output_type": "execute_result"
    }
   ],
   "source": [
    "# sol[m, start] = \n",
    "\n",
    "def count_combos(cgraph, source: str, root: bool, steps: int, visited: set[str]):\n",
    "    c = 0\n",
    "    if not root:\n",
    "        steps += 1\n",
    "    for cost, next in cgraph[source]:\n",
    "        after = steps + cost\n",
    "        if after < 26 and not next in visited:\n",
    "            visited.add(next)\n",
    "            c += 1 + count_combos(cgraph, next, False, after, visited)\n",
    "            visited.remove(next)\n",
    "    return c\n",
    "\n",
    "# count_combos(cgraph, \"AA\", True, 0, set())\n",
    "\n",
    "cache4 = {}\n",
    "cache5 = {}\n",
    "\n",
    "def max_pressure_4(graph, valve: str, step: int, visited):\n",
    "    if step >= 26:\n",
    "        return 0\n",
    "\n",
    "    key = (valve, step, frozenset(visited))\n",
    "    if key in cache4:\n",
    "        return cache4[key]\n",
    "\n",
    "    max_p = 0\n",
    "    \n",
    "    rate = valves[valve].rate\n",
    "    if rate > 0:\n",
    "        gained = (26 - step - 1) * rate\n",
    "        for cost, next in graph[valve]:\n",
    "            if not next in visited:\n",
    "                visited.add(next)\n",
    "                max_p = max(max_p, gained + max_pressure_4(graph, next, step + 1 + cost, visited))\n",
    "                visited.remove(next)\n",
    "        cache4[key] = max_p\n",
    "        return max_p\n",
    "    \n",
    "    for cost, next in graph[valve]:\n",
    "        if not next in visited:\n",
    "            visited.add(next)\n",
    "            max_p = max(max_p, max_pressure_4(graph, next, step + cost, visited))\n",
    "            visited.remove(next)\n",
    "    \n",
    "    cache4[key] = max_p\n",
    "    return max_p\n",
    "\n",
    "def max_pressure_5(graph, valve: str, step: int, visited):\n",
    "    key = (valve, step, frozenset(visited))\n",
    "    if key in cache5:\n",
    "        return cache5[key]\n",
    "\n",
    "    if step >= 26:\n",
    "        res = max_pressure_4(graph, \"AA\", 0, visited)\n",
    "        cache5[key] = res\n",
    "        return res\n",
    "\n",
    "    max_p = 0\n",
    "    \n",
    "    rate = valves[valve].rate\n",
    "    if rate > 0:\n",
    "        gained = (26 - step - 1) * rate\n",
    "        for cost, next in graph[valve]:\n",
    "            if not next in visited:\n",
    "                visited.add(next)\n",
    "                max_p = max(max_p, gained + max_pressure_5(graph, next, step + 1 + cost, visited))\n",
    "                visited.remove(next)\n",
    "        cache5[key] = max_p\n",
    "        return max_p\n",
    "    \n",
    "    for cost, next in graph[valve]:\n",
    "        if not next in visited:\n",
    "            visited.add(next)\n",
    "            max_p = max(max_p, max_pressure_5(graph, next, step + cost, visited))\n",
    "            visited.remove(next)\n",
    "    \n",
    "    cache5[key] = max_p\n",
    "    return max_p\n",
    "\n",
    "max_pressure_5(cgraph, \"AA\", 0, set())"
   ]
  },
  {
   "cell_type": "code",
   "execution_count": 161,
   "metadata": {},
   "outputs": [
    {
     "name": "stdout",
     "output_type": "stream",
     "text": [
      "[[625, 650, 575, 650, 600, 598, 600, 690, 600, 552, 750, 575, 650, 720, 546, 630], [600, 625, 550, 625, 575, 575, 580, 667, 575, 529, 725, 550, 625, 696, 525, 609], [575, 600, 525, 600, 550, 552, 560, 644, 550, 506, 700, 525, 600, 672, 504, 588], [550, 575, 500, 575, 525, 529, 540, 621, 525, 483, 675, 500, 575, 648, 486, 567], [525, 550, 475, 550, 500, 506, 520, 598, 500, 460, 650, 475, 550, 624, 468, 546], [500, 525, 450, 525, 475, 483, 500, 575, 475, 437, 625, 450, 525, 600, 450, 525], [475, 500, 425, 500, 450, 460, 480, 552, 450, 414, 600, 425, 500, 576, 432, 504], [450, 475, 400, 475, 425, 437, 460, 529, 425, 391, 575, 400, 475, 552, 414, 483], [425, 450, 380, 450, 400, 414, 440, 506, 400, 368, 550, 375, 450, 528, 396, 462], [400, 425, 360, 425, 375, 391, 420, 483, 375, 345, 525, 350, 425, 504, 378, 441], [375, 400, 340, 400, 350, 368, 400, 460, 350, 322, 500, 325, 400, 480, 360, 420], [350, 375, 323, 375, 325, 345, 380, 437, 325, 299, 475, 300, 375, 456, 342, 399], [325, 350, 306, 350, 300, 322, 360, 414, 300, 276, 450, 276, 350, 432, 324, 378], [300, 325, 289, 325, 275, 299, 340, 391, 275, 253, 425, 255, 325, 408, 306, 357], [276, 300, 272, 300, 250, 276, 320, 368, 256, 230, 400, 240, 300, 384, 288, 336], [253, 275, 255, 276, 225, 253, 300, 345, 240, 207, 375, 225, 275, 360, 270, 315], [230, 250, 238, 253, 200, 230, 280, 322, 224, 184, 350, 210, 250, 336, 252, 294], [207, 225, 221, 230, 175, 207, 260, 299, 208, 162, 325, 195, 225, 312, 234, 273], [184, 200, 204, 207, 150, 184, 240, 276, 192, 144, 300, 180, 200, 288, 216, 252], [161, 175, 187, 184, 125, 161, 220, 253, 176, 126, 275, 165, 175, 264, 198, 231], [138, 150, 170, 161, 102, 138, 200, 230, 160, 108, 250, 150, 150, 240, 180, 210], [119, 125, 153, 138, 85, 115, 180, 207, 144, 90, 225, 135, 126, 216, 162, 189], [102, 100, 136, 115, 68, 92, 160, 184, 128, 75, 200, 120, 112, 192, 144, 168], [85, 75, 119, 92, 51, 69, 140, 161, 112, 60, 175, 105, 98, 168, 126, 147], [68, 50, 102, 69, 42, 54, 120, 138, 96, 48, 150, 90, 84, 144, 108, 126], [51, 32, 85, 46, 35, 45, 100, 115, 80, 40, 125, 75, 70, 120, 90, 105], [34, 16, 68, 23, 28, 36, 80, 92, 64, 32, 100, 60, 56, 96, 72, 84], [17, 9, 51, 12, 21, 27, 60, 69, 48, 24, 75, 45, 42, 72, 54, 63], [0, 6, 34, 8, 14, 18, 40, 46, 32, 16, 50, 30, 28, 48, 36, 42], [0, 3, 17, 4, 7, 9, 20, 23, 16, 8, 25, 15, 14, 24, 18, 21], [0, 0, 0, 0, 0, 0, 0, 0, 0, 0, 0, 0, 0, 0, 0, 0]]\n"
     ]
    },
    {
     "data": {
      "text/plain": [
       "625"
      ]
     },
     "execution_count": 161,
     "metadata": {},
     "output_type": "execute_result"
    }
   ],
   "source": [
    "def intern(cgraph):\n",
    "    names = []\n",
    "    rates = []\n",
    "    igraph = []\n",
    "\n",
    "    names.append(\"AA\")\n",
    "    rates.append(valves[\"AA\"].rate)\n",
    "    igraph.append([])\n",
    "\n",
    "    name_map = {}\n",
    "    name_map[\"AA\"] = 0\n",
    "\n",
    "    for i, (cost, valve) in enumerate(cgraph[\"AA\"]):\n",
    "        names.append(valve)\n",
    "        rates.append(valves[valve].rate)\n",
    "        igraph[0].append((i + 1, cost))\n",
    "        name_map[valve] = i + 1\n",
    "\n",
    "    for _, valve in cgraph[\"AA\"]:\n",
    "        l = []\n",
    "        for cost, next in cgraph[valve]:\n",
    "            l.append((name_map[next], cost + 1))\n",
    "        igraph.append(l)\n",
    "\n",
    "    return names, rates, igraph\n",
    "\n",
    "def dp_pressure(cgraph, steps):\n",
    "    names, rates, igraph = intern(cgraph)\n",
    "\n",
    "    dp = [[0 for _ in range(len(names))] for _ in range(steps)]\n",
    "\n",
    "    # we must start from the end and move backward...\n",
    "    # for each valve, calculate the number of points we would gain for opening it at that step\n",
    "    # it is rate * (steps - s) + max(dp[each possible connecting node])\n",
    "\n",
    "    for s in range(steps - 1, -1, -1):\n",
    "        for v in range(len(names)):\n",
    "            g = (steps - s - 1) * rates[v]\n",
    "            m = g\n",
    "            for n, c in igraph[v]:\n",
    "                if s + c < steps:\n",
    "                    m = max(m, dp[s + c][n])\n",
    "            dp[s][v] = m\n",
    "\n",
    "    print(dp)\n",
    "    return dp[0][0] # max from step 0 starting at AA\n",
    "\n",
    "dp_pressure(cgraph, 30)"
   ]
  },
  {
   "cell_type": "code",
   "execution_count": 13,
   "metadata": {},
   "outputs": [
    {
     "data": {
      "text/plain": [
       "3069"
      ]
     },
     "execution_count": 13,
     "metadata": {},
     "output_type": "execute_result"
    }
   ],
   "source": [
    "data = get_data(day=17)\n",
    "\n",
    "rock_shapes = [\n",
    "    [\n",
    "        [1, 1, 1, 1]\n",
    "    ],\n",
    "    [\n",
    "        [0, 1, 0],\n",
    "        [1, 1, 1],\n",
    "        [0, 1, 0],\n",
    "    ],\n",
    "    [\n",
    "        [0, 0, 1],\n",
    "        [0, 0, 1],\n",
    "        [1, 1, 1],\n",
    "    ],\n",
    "    [\n",
    "        [1],\n",
    "        [1],\n",
    "        [1],\n",
    "        [1],\n",
    "    ],\n",
    "    [\n",
    "        [1, 1],\n",
    "        [1, 1]\n",
    "    ]\n",
    "]\n",
    "\n",
    "class Jets:\n",
    "    def __init__(self, data):\n",
    "        self.data = data\n",
    "        self.index = 0\n",
    "    \n",
    "    def next(self):\n",
    "        res = self.data[self.index]\n",
    "        self.index = (self.index + 1) % len(self.data)\n",
    "        if res == '<':\n",
    "            return (-1, 0)\n",
    "        else:\n",
    "            return (1, 0)\n",
    "    \n",
    "class Rock:\n",
    "    def __init__(self, shape, pos, board):\n",
    "        self.shape = shape\n",
    "        self.pos = pos # coord of bottom left pixel\n",
    "        self.board = board\n",
    "        self.width = len(shape[0])\n",
    "        self.height = len(shape)\n",
    "\n",
    "    def move(self, delta):\n",
    "        ox, oy = self.pos\n",
    "        dx, dy = delta\n",
    "        self.pos = (ox + dx, oy + dy)\n",
    "\n",
    "        if self.check_collision():\n",
    "            self.pos = (ox, oy)\n",
    "            return False\n",
    "\n",
    "        return True\n",
    "    \n",
    "    def freeze(self):\n",
    "        px, py = self.pos\n",
    "        for h in range(0, self.height):\n",
    "            for w in range(0, self.width):\n",
    "                if self.shape[self.height - h - 1][w]:\n",
    "                    x, y = px + w, py + h\n",
    "                    self.board[x, y] = 1\n",
    "\n",
    "\n",
    "    def check_collision(self):\n",
    "        px, py = self.pos\n",
    "        for h in range(0, self.height):\n",
    "            for w in range(0, self.width):\n",
    "                if self.shape[self.height - h - 1][w]:\n",
    "                    x, y = px + w, py + h\n",
    "                    if self.board[x, y]:\n",
    "                        return True\n",
    "        \n",
    "        return False\n",
    "\n",
    "class Board:\n",
    "    def __init__(self, width):\n",
    "        self.width = width\n",
    "        self.height = 0\n",
    "        self.base = 0\n",
    "        self.offset = 0\n",
    "        self.capacity = 64\n",
    "        self.board = [[0 for _ in range(self.capacity)] for _ in range(width)]\n",
    "\n",
    "    def serialize(self):\n",
    "        assert self.width == 7 # so we can convert row to char\n",
    "        result = \"\"\n",
    "        for y in range(self.base, self.height):\n",
    "            row = 0\n",
    "            for x in range(self.width):\n",
    "                row |= self[x, y] << x\n",
    "            result += chr(row)\n",
    "        return result\n",
    "    \n",
    "    def expand(self):\n",
    "        new_board = []\n",
    "        for col in self.board:\n",
    "            new_col = []\n",
    "            for i in range(self.capacity):\n",
    "                new_col.append(col[(i + self.offset) % self.capacity])\n",
    "            new_col.extend([0] * self.capacity)\n",
    "            new_board.append(new_col)\n",
    "        self.offset = 0\n",
    "        self.capacity *= 2\n",
    "        self.board = new_board\n",
    "\n",
    "    def get_index(self, y):\n",
    "        assert y >= self.base\n",
    "        if (y - self.base >= self.capacity):\n",
    "            self.expand()\n",
    "        \n",
    "        return (y - self.base + self.offset) % self.capacity\n",
    "\n",
    "    def __getitem__(self, key):\n",
    "        x, y = key\n",
    "\n",
    "        if x < 0 or x >= self.width or y < self.base:\n",
    "            return 1\n",
    "\n",
    "        if y >= self.height:\n",
    "            return 0\n",
    "        \n",
    "        y = self.get_index(y)\n",
    "        return self.board[x][y]\n",
    "    \n",
    "    def __setitem__(self, key, value):\n",
    "        x, y = key\n",
    "\n",
    "        if y < self.base:\n",
    "            return # below baseline, already set\n",
    "\n",
    "        if y >= self.height:\n",
    "            self.height = y + 1\n",
    "\n",
    "        iy = self.get_index(y)\n",
    "\n",
    "        self.board[x][iy] = value\n",
    "\n",
    "        for col in self.board:\n",
    "            if not col[iy]:\n",
    "                return\n",
    "\n",
    "        self.base = y + 1\n",
    "\n",
    "        for col in self.board:\n",
    "            col[self.offset] = 0\n",
    "\n",
    "        while self.offset != iy:\n",
    "            self.offset = (self.offset + 1) % self.capacity\n",
    "            for col in self.board:\n",
    "                col[self.offset] = 0\n",
    "\n",
    "        self.offset = (self.offset + 1) % self.capacity\n",
    "    \n",
    "class Game:\n",
    "    def __init__(self, input):\n",
    "        self.rock_index = 0\n",
    "        self.jets = Jets(input)\n",
    "        self.board = Board(7)\n",
    "\n",
    "    def serialize(self):\n",
    "        return (self.rock_index, self.jets.index, self.board.serialize())\n",
    "\n",
    "    def place_rock(self):\n",
    "        rock = self.spawn_rock()\n",
    "        rock.move(self.jets.next())\n",
    "\n",
    "        while rock.move((0, -1)):\n",
    "            rock.move(self.jets.next())\n",
    "        \n",
    "        rock.freeze()\n",
    "    \n",
    "    def spawn_rock(self):\n",
    "        shape = rock_shapes[self.rock_index]\n",
    "        self.rock_index = (self.rock_index + 1) % len(rock_shapes)\n",
    "        return Rock(shape, (2, self.board.height + 3), self.board) # todo\n",
    "\n",
    "game = Game(data)\n",
    "for _ in range(2022):\n",
    "    game.place_rock()\n",
    "game.board.height"
   ]
  },
  {
   "cell_type": "code",
   "execution_count": 41,
   "metadata": {},
   "outputs": [
    {
     "data": {
      "text/plain": [
       "1523167155404"
      ]
     },
     "execution_count": 41,
     "metadata": {},
     "output_type": "execute_result"
    }
   ],
   "source": [
    "def tetris_with_cache(game, rounds):\n",
    "    cache = {}\n",
    "\n",
    "    for round in range(rounds):\n",
    "        serialized = game.serialize()\n",
    "        if serialized in cache:\n",
    "            # cycle detected\n",
    "            prev_round, prev_height = cache[serialized]\n",
    "            cycle_length = round - prev_round\n",
    "            cycle_height = game.board.height - prev_height\n",
    "\n",
    "            acc = ((rounds - round) // cycle_length) * cycle_height\n",
    "            remaining = (rounds - round) % cycle_length\n",
    "            return acc + tetris_with_cache(game, remaining)\n",
    "\n",
    "        cache[serialized] = (round, game.board.height)\n",
    "        game.place_rock()\n",
    "    \n",
    "    return game.board.height\n",
    "\n",
    "tetris_with_cache(Game(data), 1000000000000)"
   ]
  }
 ],
 "metadata": {
  "kernelspec": {
   "display_name": "py3.10",
   "language": "python",
   "name": "python3"
  },
  "language_info": {
   "codemirror_mode": {
    "name": "ipython",
    "version": 3
   },
   "file_extension": ".py",
   "mimetype": "text/x-python",
   "name": "python",
   "nbconvert_exporter": "python",
   "pygments_lexer": "ipython3",
   "version": "3.10.8"
  },
  "metadata": {
   "interpreter": {
    "hash": "170cc9390f1515677318aed99be3a225317e0f4052bb699af2fa999a79bb2149"
   }
  },
  "orig_nbformat": 4,
  "vscode": {
   "interpreter": {
    "hash": "70a138b82c13d493d476d44a566d8f42dd2d797d0b6300d76e8ea548379e3bb2"
   }
  }
 },
 "nbformat": 4,
 "nbformat_minor": 2
}
